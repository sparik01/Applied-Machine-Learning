{
 "cells": [
  {
   "cell_type": "markdown",
   "metadata": {},
   "source": [
    "# Applied Machine Learning: Assignment \\#7"
   ]
  },
  {
   "cell_type": "markdown",
   "metadata": {},
   "source": [
    "### Sheetal Parikh\n",
    "EN.605.631.81<br>\n",
    "March 15, 2021\n",
    "***\n",
    "***"
   ]
  },
  {
   "cell_type": "markdown",
   "metadata": {},
   "source": [
    "*Continuing to the previous machine learning problem, let's get back to the pre-processed dataset Suicide Rates Overview 1985 to 2016 file. We would like to have a machine learning model to predict the suicide rate 'suicides/100k pop'.* "
   ]
  },
  {
   "cell_type": "markdown",
   "metadata": {},
   "source": [
    "## Problem 1\n",
    "*Keep the variables as one-hot encoded and develop a multiple linear regression model. Use your model to predict the target variable for the people with age 20, male, and generation X. What is the MAE error of this prediction? How many line coefficients are there?*"
   ]
  },
  {
   "cell_type": "markdown",
   "metadata": {},
   "source": [
    "### Preprocessing Data Set similar to Module 3 and 6 Homework"
   ]
  },
  {
   "cell_type": "code",
   "execution_count": 1,
   "metadata": {},
   "outputs": [
    {
     "name": "stdout",
     "output_type": "stream",
     "text": [
      "N rows=27820, M columns=12\n"
     ]
    },
    {
     "data": {
      "text/html": [
       "<div>\n",
       "<style scoped>\n",
       "    .dataframe tbody tr th:only-of-type {\n",
       "        vertical-align: middle;\n",
       "    }\n",
       "\n",
       "    .dataframe tbody tr th {\n",
       "        vertical-align: top;\n",
       "    }\n",
       "\n",
       "    .dataframe thead th {\n",
       "        text-align: right;\n",
       "    }\n",
       "</style>\n",
       "<table border=\"1\" class=\"dataframe\">\n",
       "  <thead>\n",
       "    <tr style=\"text-align: right;\">\n",
       "      <th></th>\n",
       "      <th>country</th>\n",
       "      <th>year</th>\n",
       "      <th>sex</th>\n",
       "      <th>age</th>\n",
       "      <th>suicides_no</th>\n",
       "      <th>population</th>\n",
       "      <th>suicides/100k pop</th>\n",
       "      <th>country-year</th>\n",
       "      <th>HDI for year</th>\n",
       "      <th>gdp_for_year ($)</th>\n",
       "      <th>gdp_per_capita ($)</th>\n",
       "      <th>generation</th>\n",
       "    </tr>\n",
       "  </thead>\n",
       "  <tbody>\n",
       "    <tr>\n",
       "      <th>0</th>\n",
       "      <td>Albania</td>\n",
       "      <td>1987</td>\n",
       "      <td>male</td>\n",
       "      <td>15-24 years</td>\n",
       "      <td>21</td>\n",
       "      <td>312900</td>\n",
       "      <td>6.71</td>\n",
       "      <td>Albania1987</td>\n",
       "      <td>NaN</td>\n",
       "      <td>2,156,624,900</td>\n",
       "      <td>796</td>\n",
       "      <td>Generation X</td>\n",
       "    </tr>\n",
       "    <tr>\n",
       "      <th>1</th>\n",
       "      <td>Albania</td>\n",
       "      <td>1987</td>\n",
       "      <td>male</td>\n",
       "      <td>35-54 years</td>\n",
       "      <td>16</td>\n",
       "      <td>308000</td>\n",
       "      <td>5.19</td>\n",
       "      <td>Albania1987</td>\n",
       "      <td>NaN</td>\n",
       "      <td>2,156,624,900</td>\n",
       "      <td>796</td>\n",
       "      <td>Silent</td>\n",
       "    </tr>\n",
       "    <tr>\n",
       "      <th>2</th>\n",
       "      <td>Albania</td>\n",
       "      <td>1987</td>\n",
       "      <td>female</td>\n",
       "      <td>15-24 years</td>\n",
       "      <td>14</td>\n",
       "      <td>289700</td>\n",
       "      <td>4.83</td>\n",
       "      <td>Albania1987</td>\n",
       "      <td>NaN</td>\n",
       "      <td>2,156,624,900</td>\n",
       "      <td>796</td>\n",
       "      <td>Generation X</td>\n",
       "    </tr>\n",
       "    <tr>\n",
       "      <th>3</th>\n",
       "      <td>Albania</td>\n",
       "      <td>1987</td>\n",
       "      <td>male</td>\n",
       "      <td>75+ years</td>\n",
       "      <td>1</td>\n",
       "      <td>21800</td>\n",
       "      <td>4.59</td>\n",
       "      <td>Albania1987</td>\n",
       "      <td>NaN</td>\n",
       "      <td>2,156,624,900</td>\n",
       "      <td>796</td>\n",
       "      <td>G.I. Generation</td>\n",
       "    </tr>\n",
       "    <tr>\n",
       "      <th>4</th>\n",
       "      <td>Albania</td>\n",
       "      <td>1987</td>\n",
       "      <td>male</td>\n",
       "      <td>25-34 years</td>\n",
       "      <td>9</td>\n",
       "      <td>274300</td>\n",
       "      <td>3.28</td>\n",
       "      <td>Albania1987</td>\n",
       "      <td>NaN</td>\n",
       "      <td>2,156,624,900</td>\n",
       "      <td>796</td>\n",
       "      <td>Boomers</td>\n",
       "    </tr>\n",
       "  </tbody>\n",
       "</table>\n",
       "</div>"
      ],
      "text/plain": [
       "   country  year     sex          age  suicides_no  population  \\\n",
       "0  Albania  1987    male  15-24 years           21      312900   \n",
       "1  Albania  1987    male  35-54 years           16      308000   \n",
       "2  Albania  1987  female  15-24 years           14      289700   \n",
       "3  Albania  1987    male    75+ years            1       21800   \n",
       "4  Albania  1987    male  25-34 years            9      274300   \n",
       "\n",
       "   suicides/100k pop country-year  HDI for year  gdp_for_year ($)   \\\n",
       "0               6.71  Albania1987           NaN      2,156,624,900   \n",
       "1               5.19  Albania1987           NaN      2,156,624,900   \n",
       "2               4.83  Albania1987           NaN      2,156,624,900   \n",
       "3               4.59  Albania1987           NaN      2,156,624,900   \n",
       "4               3.28  Albania1987           NaN      2,156,624,900   \n",
       "\n",
       "   gdp_per_capita ($)       generation  \n",
       "0                 796     Generation X  \n",
       "1                 796           Silent  \n",
       "2                 796     Generation X  \n",
       "3                 796  G.I. Generation  \n",
       "4                 796          Boomers  "
      ]
     },
     "execution_count": 1,
     "metadata": {},
     "output_type": "execute_result"
    }
   ],
   "source": [
    "# imports for notebook\n",
    "%matplotlib inline\n",
    "import matplotlib.pyplot as plt\n",
    "import numpy as np\n",
    "import pandas as pd\n",
    "import seaborn as sns; sns.set(style=\"ticks\", color_codes=True)\n",
    "#from sklearn.model_selection import train_test_split\n",
    "#from sklearn import datasets, metrics\n",
    "from sklearn.linear_model import LinearRegression\n",
    "import os \n",
    "\n",
    "#checking current directory\n",
    "#print(os.getcwd() + \"\\n\")\n",
    "\n",
    "# change the current directory \n",
    "# to specified directory \n",
    "os.chdir(r\"C:\\Users\\Sheetal\\Documents\\Sheetal\") \n",
    "\n",
    "#Read in file\n",
    "relative_path = 'datasets/master.csv'\n",
    "df_org = pd.read_csv(relative_path)\n",
    "\n",
    "# Sanity check\n",
    "print(f'N rows={len(df_org)}, M columns={len(df_org.columns)}')\n",
    "\n",
    "#print first few rows to visualize dataset\n",
    "df_org.head()"
   ]
  },
  {
   "cell_type": "code",
   "execution_count": 2,
   "metadata": {},
   "outputs": [
    {
     "data": {
      "text/plain": [
       "country                   0\n",
       "year                      0\n",
       "sex                       0\n",
       "age                       0\n",
       "suicides_no               0\n",
       "population                0\n",
       "suicides_per_100k         0\n",
       "country-year              0\n",
       "HDI for year          19456\n",
       " gdp_for_year ($)         0\n",
       "gdp_per_capita ($)        0\n",
       "generation                0\n",
       "dtype: int64"
      ]
     },
     "execution_count": 2,
     "metadata": {},
     "output_type": "execute_result"
    }
   ],
   "source": [
    "#renaming suicides/100k pop column\n",
    "df_org.rename(columns = {'suicides/100k pop':'suicides_per_100k'}, inplace = True) \n",
    "\n",
    "df_org.isnull().sum()"
   ]
  },
  {
   "cell_type": "code",
   "execution_count": 3,
   "metadata": {},
   "outputs": [
    {
     "name": "stdout",
     "output_type": "stream",
     "text": [
      "Column Names:\n",
      "Index(['country', 'year', 'sex', 'age', 'suicides_no', 'population',\n",
      "       'suicides_per_100k', 'country-year', 'HDI for year',\n",
      "       ' gdp_for_year ($) ', 'gdp_per_capita ($)', 'generation'],\n",
      "      dtype='object')\n"
     ]
    }
   ],
   "source": [
    "print(f'Column Names:')\n",
    "\n",
    "#printing column names\n",
    "print(df_org.columns)"
   ]
  },
  {
   "cell_type": "code",
   "execution_count": 4,
   "metadata": {},
   "outputs": [
    {
     "name": "stdout",
     "output_type": "stream",
     "text": [
      "(27660, 12)\n"
     ]
    }
   ],
   "source": [
    "#dropping 2016 data because very few data points - data possibly incomplete for 2016\n",
    "df_org2 = df_org[df_org.year != 2016]\n",
    "print(df_org2.shape)"
   ]
  },
  {
   "cell_type": "markdown",
   "metadata": {},
   "source": [
    "We started out with 27,820 data points and were able to elminate 160 data points due to incomplete data."
   ]
  },
  {
   "cell_type": "code",
   "execution_count": 5,
   "metadata": {},
   "outputs": [
    {
     "data": {
      "text/html": [
       "<div>\n",
       "<style scoped>\n",
       "    .dataframe tbody tr th:only-of-type {\n",
       "        vertical-align: middle;\n",
       "    }\n",
       "\n",
       "    .dataframe tbody tr th {\n",
       "        vertical-align: top;\n",
       "    }\n",
       "\n",
       "    .dataframe thead th {\n",
       "        text-align: right;\n",
       "    }\n",
       "</style>\n",
       "<table border=\"1\" class=\"dataframe\">\n",
       "  <thead>\n",
       "    <tr style=\"text-align: right;\">\n",
       "      <th></th>\n",
       "      <th>year</th>\n",
       "      <th>suicides_no</th>\n",
       "      <th>population</th>\n",
       "      <th>suicides_per_100k</th>\n",
       "      <th>HDI for year</th>\n",
       "      <th>gdp_per_capita ($)</th>\n",
       "    </tr>\n",
       "  </thead>\n",
       "  <tbody>\n",
       "    <tr>\n",
       "      <th>year</th>\n",
       "      <td>1.000000</td>\n",
       "      <td>-0.002953</td>\n",
       "      <td>0.011583</td>\n",
       "      <td>-0.039800</td>\n",
       "      <td>0.366786</td>\n",
       "      <td>0.338854</td>\n",
       "    </tr>\n",
       "    <tr>\n",
       "      <th>suicides_no</th>\n",
       "      <td>-0.002953</td>\n",
       "      <td>1.000000</td>\n",
       "      <td>0.616105</td>\n",
       "      <td>0.307103</td>\n",
       "      <td>0.151399</td>\n",
       "      <td>0.062168</td>\n",
       "    </tr>\n",
       "    <tr>\n",
       "      <th>population</th>\n",
       "      <td>0.011583</td>\n",
       "      <td>0.616105</td>\n",
       "      <td>1.000000</td>\n",
       "      <td>0.008461</td>\n",
       "      <td>0.102943</td>\n",
       "      <td>0.083006</td>\n",
       "    </tr>\n",
       "    <tr>\n",
       "      <th>suicides_per_100k</th>\n",
       "      <td>-0.039800</td>\n",
       "      <td>0.307103</td>\n",
       "      <td>0.008461</td>\n",
       "      <td>1.000000</td>\n",
       "      <td>0.074279</td>\n",
       "      <td>0.002015</td>\n",
       "    </tr>\n",
       "    <tr>\n",
       "      <th>HDI for year</th>\n",
       "      <td>0.366786</td>\n",
       "      <td>0.151399</td>\n",
       "      <td>0.102943</td>\n",
       "      <td>0.074279</td>\n",
       "      <td>1.000000</td>\n",
       "      <td>0.771228</td>\n",
       "    </tr>\n",
       "    <tr>\n",
       "      <th>gdp_per_capita ($)</th>\n",
       "      <td>0.338854</td>\n",
       "      <td>0.062168</td>\n",
       "      <td>0.083006</td>\n",
       "      <td>0.002015</td>\n",
       "      <td>0.771228</td>\n",
       "      <td>1.000000</td>\n",
       "    </tr>\n",
       "  </tbody>\n",
       "</table>\n",
       "</div>"
      ],
      "text/plain": [
       "                        year  suicides_no  population  suicides_per_100k  \\\n",
       "year                1.000000    -0.002953    0.011583          -0.039800   \n",
       "suicides_no        -0.002953     1.000000    0.616105           0.307103   \n",
       "population          0.011583     0.616105    1.000000           0.008461   \n",
       "suicides_per_100k  -0.039800     0.307103    0.008461           1.000000   \n",
       "HDI for year        0.366786     0.151399    0.102943           0.074279   \n",
       "gdp_per_capita ($)  0.338854     0.062168    0.083006           0.002015   \n",
       "\n",
       "                    HDI for year  gdp_per_capita ($)  \n",
       "year                    0.366786            0.338854  \n",
       "suicides_no             0.151399            0.062168  \n",
       "population              0.102943            0.083006  \n",
       "suicides_per_100k       0.074279            0.002015  \n",
       "HDI for year            1.000000            0.771228  \n",
       "gdp_per_capita ($)      0.771228            1.000000  "
      ]
     },
     "execution_count": 5,
     "metadata": {},
     "output_type": "execute_result"
    }
   ],
   "source": [
    "df_org2.corr(method = 'pearson')"
   ]
  },
  {
   "cell_type": "markdown",
   "metadata": {},
   "source": [
    "No variable has a very strong correlation with suicides/100k pop, however, HDI for year appears to have the strongest of the other variables. Also, the number of suicides has a strong correlation with the population. Also, GDP per capita has a strong correlation with HDI."
   ]
  },
  {
   "cell_type": "code",
   "execution_count": 6,
   "metadata": {},
   "outputs": [
    {
     "data": {
      "text/html": [
       "<div>\n",
       "<style scoped>\n",
       "    .dataframe tbody tr th:only-of-type {\n",
       "        vertical-align: middle;\n",
       "    }\n",
       "\n",
       "    .dataframe tbody tr th {\n",
       "        vertical-align: top;\n",
       "    }\n",
       "\n",
       "    .dataframe thead th {\n",
       "        text-align: right;\n",
       "    }\n",
       "</style>\n",
       "<table border=\"1\" class=\"dataframe\">\n",
       "  <thead>\n",
       "    <tr style=\"text-align: right;\">\n",
       "      <th></th>\n",
       "      <th>year</th>\n",
       "      <th>sex</th>\n",
       "      <th>age</th>\n",
       "      <th>suicides_per_100k</th>\n",
       "      <th>gdp_per_capita ($)</th>\n",
       "      <th>generation</th>\n",
       "    </tr>\n",
       "  </thead>\n",
       "  <tbody>\n",
       "    <tr>\n",
       "      <th>0</th>\n",
       "      <td>1987</td>\n",
       "      <td>male</td>\n",
       "      <td>15-24 years</td>\n",
       "      <td>6.71</td>\n",
       "      <td>796</td>\n",
       "      <td>Generation X</td>\n",
       "    </tr>\n",
       "    <tr>\n",
       "      <th>1</th>\n",
       "      <td>1987</td>\n",
       "      <td>male</td>\n",
       "      <td>35-54 years</td>\n",
       "      <td>5.19</td>\n",
       "      <td>796</td>\n",
       "      <td>Silent</td>\n",
       "    </tr>\n",
       "    <tr>\n",
       "      <th>2</th>\n",
       "      <td>1987</td>\n",
       "      <td>female</td>\n",
       "      <td>15-24 years</td>\n",
       "      <td>4.83</td>\n",
       "      <td>796</td>\n",
       "      <td>Generation X</td>\n",
       "    </tr>\n",
       "    <tr>\n",
       "      <th>3</th>\n",
       "      <td>1987</td>\n",
       "      <td>male</td>\n",
       "      <td>75+ years</td>\n",
       "      <td>4.59</td>\n",
       "      <td>796</td>\n",
       "      <td>G.I. Generation</td>\n",
       "    </tr>\n",
       "    <tr>\n",
       "      <th>4</th>\n",
       "      <td>1987</td>\n",
       "      <td>male</td>\n",
       "      <td>25-34 years</td>\n",
       "      <td>3.28</td>\n",
       "      <td>796</td>\n",
       "      <td>Boomers</td>\n",
       "    </tr>\n",
       "  </tbody>\n",
       "</table>\n",
       "</div>"
      ],
      "text/plain": [
       "   year     sex          age  suicides_per_100k  gdp_per_capita ($)  \\\n",
       "0  1987    male  15-24 years               6.71                 796   \n",
       "1  1987    male  35-54 years               5.19                 796   \n",
       "2  1987  female  15-24 years               4.83                 796   \n",
       "3  1987    male    75+ years               4.59                 796   \n",
       "4  1987    male  25-34 years               3.28                 796   \n",
       "\n",
       "        generation  \n",
       "0     Generation X  \n",
       "1           Silent  \n",
       "2     Generation X  \n",
       "3  G.I. Generation  \n",
       "4          Boomers  "
      ]
     },
     "execution_count": 6,
     "metadata": {},
     "output_type": "execute_result"
    }
   ],
   "source": [
    "#dropping features\n",
    "df = df_org2.copy()\n",
    "df.drop(columns='suicides_no', inplace=True)\n",
    "df.drop(columns='population', inplace=True)\n",
    "df.drop(columns='country', inplace=True)\n",
    "df.drop(columns=' gdp_for_year ($) ', inplace=True)\n",
    "df.drop(columns='country-year', inplace=True)\n",
    "df.drop(columns='HDI for year', inplace=True)\n",
    "\n",
    "#printing updated data set\n",
    "df.head()"
   ]
  },
  {
   "cell_type": "markdown",
   "metadata": {},
   "source": [
    "The HDI for year variable has too many null values so I believe using the mean per country may not be sufficient and should just be removed. Also, I decided to remove the country variable because I wanted to limit the number of columns that would be added to the dataset.  I do believe variables such as HDI or GDP per capita would have some impact on suicide rates so since I removed HDI, I decided to keep GDP per capita in it's place."
   ]
  },
  {
   "cell_type": "code",
   "execution_count": 7,
   "metadata": {},
   "outputs": [
    {
     "data": {
      "text/plain": [
       "year                  0\n",
       "sex                   0\n",
       "age                   0\n",
       "suicides_per_100k     0\n",
       "gdp_per_capita ($)    0\n",
       "generation            0\n",
       "dtype: int64"
      ]
     },
     "execution_count": 7,
     "metadata": {},
     "output_type": "execute_result"
    }
   ],
   "source": [
    "#checking if we eliminated the NaNs\n",
    "df.isnull().sum()"
   ]
  },
  {
   "cell_type": "markdown",
   "metadata": {},
   "source": [
    "### One-Hot Encoding"
   ]
  },
  {
   "cell_type": "code",
   "execution_count": 8,
   "metadata": {},
   "outputs": [],
   "source": [
    "#one hot coding formula from module 3 notebook\n",
    "#pandas get_dummies function is one-hot-encoder\n",
    "\n",
    "def encode_onehot(_df, f):\n",
    "    _df2 = pd.get_dummies(_df[f], prefix='', prefix_sep='').max(level=0, axis=1).add_prefix(f+'-')\n",
    "    df4 = pd.concat([_df, _df2], axis=1)\n",
    "    df4 = df4.drop([f], axis=1)\n",
    "    return df4"
   ]
  },
  {
   "cell_type": "code",
   "execution_count": 9,
   "metadata": {},
   "outputs": [],
   "source": [
    "#copying dataframe\n",
    "df_oneHot = df.copy()\n",
    "\n",
    "#converting sex column\n",
    "df_oneHot = encode_onehot(df_oneHot, 'sex')\n",
    "\n",
    "#converting age column\n",
    "df_oneHot = encode_onehot(df_oneHot, 'age')\n",
    "\n",
    "#converting generation column\n",
    "df_oneHot = encode_onehot(df_oneHot, 'generation')"
   ]
  },
  {
   "cell_type": "code",
   "execution_count": 10,
   "metadata": {},
   "outputs": [],
   "source": [
    "#renaming columns names so easier to use\n",
    "df_oneHot.rename(columns = {'sex-male':'sex_male', \n",
    "                           'age-15-24 years':'age_15_24',\n",
    "                           'generation-Generation X':'generation_Generation_X'}, inplace = True) \n",
    "#print(df_oneHot.columns)"
   ]
  },
  {
   "cell_type": "code",
   "execution_count": 11,
   "metadata": {},
   "outputs": [
    {
     "data": {
      "text/html": [
       "<div>\n",
       "<style scoped>\n",
       "    .dataframe tbody tr th:only-of-type {\n",
       "        vertical-align: middle;\n",
       "    }\n",
       "\n",
       "    .dataframe tbody tr th {\n",
       "        vertical-align: top;\n",
       "    }\n",
       "\n",
       "    .dataframe thead th {\n",
       "        text-align: right;\n",
       "    }\n",
       "</style>\n",
       "<table border=\"1\" class=\"dataframe\">\n",
       "  <thead>\n",
       "    <tr style=\"text-align: right;\">\n",
       "      <th></th>\n",
       "      <th>year</th>\n",
       "      <th>suicides_per_100k</th>\n",
       "      <th>gdp_per_capita ($)</th>\n",
       "      <th>sex-female</th>\n",
       "      <th>sex_male</th>\n",
       "      <th>age_15_24</th>\n",
       "      <th>age-25-34 years</th>\n",
       "      <th>age-35-54 years</th>\n",
       "      <th>age-5-14 years</th>\n",
       "      <th>age-55-74 years</th>\n",
       "      <th>age-75+ years</th>\n",
       "      <th>generation-Boomers</th>\n",
       "      <th>generation-G.I. Generation</th>\n",
       "      <th>generation_Generation_X</th>\n",
       "      <th>generation-Generation Z</th>\n",
       "      <th>generation-Millenials</th>\n",
       "      <th>generation-Silent</th>\n",
       "    </tr>\n",
       "  </thead>\n",
       "  <tbody>\n",
       "    <tr>\n",
       "      <th>0</th>\n",
       "      <td>1987</td>\n",
       "      <td>6.71</td>\n",
       "      <td>796</td>\n",
       "      <td>0</td>\n",
       "      <td>1</td>\n",
       "      <td>1</td>\n",
       "      <td>0</td>\n",
       "      <td>0</td>\n",
       "      <td>0</td>\n",
       "      <td>0</td>\n",
       "      <td>0</td>\n",
       "      <td>0</td>\n",
       "      <td>0</td>\n",
       "      <td>1</td>\n",
       "      <td>0</td>\n",
       "      <td>0</td>\n",
       "      <td>0</td>\n",
       "    </tr>\n",
       "    <tr>\n",
       "      <th>1</th>\n",
       "      <td>1987</td>\n",
       "      <td>5.19</td>\n",
       "      <td>796</td>\n",
       "      <td>0</td>\n",
       "      <td>1</td>\n",
       "      <td>0</td>\n",
       "      <td>0</td>\n",
       "      <td>1</td>\n",
       "      <td>0</td>\n",
       "      <td>0</td>\n",
       "      <td>0</td>\n",
       "      <td>0</td>\n",
       "      <td>0</td>\n",
       "      <td>0</td>\n",
       "      <td>0</td>\n",
       "      <td>0</td>\n",
       "      <td>1</td>\n",
       "    </tr>\n",
       "    <tr>\n",
       "      <th>2</th>\n",
       "      <td>1987</td>\n",
       "      <td>4.83</td>\n",
       "      <td>796</td>\n",
       "      <td>1</td>\n",
       "      <td>0</td>\n",
       "      <td>1</td>\n",
       "      <td>0</td>\n",
       "      <td>0</td>\n",
       "      <td>0</td>\n",
       "      <td>0</td>\n",
       "      <td>0</td>\n",
       "      <td>0</td>\n",
       "      <td>0</td>\n",
       "      <td>1</td>\n",
       "      <td>0</td>\n",
       "      <td>0</td>\n",
       "      <td>0</td>\n",
       "    </tr>\n",
       "    <tr>\n",
       "      <th>3</th>\n",
       "      <td>1987</td>\n",
       "      <td>4.59</td>\n",
       "      <td>796</td>\n",
       "      <td>0</td>\n",
       "      <td>1</td>\n",
       "      <td>0</td>\n",
       "      <td>0</td>\n",
       "      <td>0</td>\n",
       "      <td>0</td>\n",
       "      <td>0</td>\n",
       "      <td>1</td>\n",
       "      <td>0</td>\n",
       "      <td>1</td>\n",
       "      <td>0</td>\n",
       "      <td>0</td>\n",
       "      <td>0</td>\n",
       "      <td>0</td>\n",
       "    </tr>\n",
       "    <tr>\n",
       "      <th>4</th>\n",
       "      <td>1987</td>\n",
       "      <td>3.28</td>\n",
       "      <td>796</td>\n",
       "      <td>0</td>\n",
       "      <td>1</td>\n",
       "      <td>0</td>\n",
       "      <td>1</td>\n",
       "      <td>0</td>\n",
       "      <td>0</td>\n",
       "      <td>0</td>\n",
       "      <td>0</td>\n",
       "      <td>1</td>\n",
       "      <td>0</td>\n",
       "      <td>0</td>\n",
       "      <td>0</td>\n",
       "      <td>0</td>\n",
       "      <td>0</td>\n",
       "    </tr>\n",
       "  </tbody>\n",
       "</table>\n",
       "</div>"
      ],
      "text/plain": [
       "   year  suicides_per_100k  gdp_per_capita ($)  sex-female  sex_male  \\\n",
       "0  1987               6.71                 796           0         1   \n",
       "1  1987               5.19                 796           0         1   \n",
       "2  1987               4.83                 796           1         0   \n",
       "3  1987               4.59                 796           0         1   \n",
       "4  1987               3.28                 796           0         1   \n",
       "\n",
       "   age_15_24  age-25-34 years  age-35-54 years  age-5-14 years  \\\n",
       "0          1                0                0               0   \n",
       "1          0                0                1               0   \n",
       "2          1                0                0               0   \n",
       "3          0                0                0               0   \n",
       "4          0                1                0               0   \n",
       "\n",
       "   age-55-74 years  age-75+ years  generation-Boomers  \\\n",
       "0                0              0                   0   \n",
       "1                0              0                   0   \n",
       "2                0              0                   0   \n",
       "3                0              1                   0   \n",
       "4                0              0                   1   \n",
       "\n",
       "   generation-G.I. Generation  generation_Generation_X  \\\n",
       "0                           0                        1   \n",
       "1                           0                        0   \n",
       "2                           0                        1   \n",
       "3                           1                        0   \n",
       "4                           0                        0   \n",
       "\n",
       "   generation-Generation Z  generation-Millenials  generation-Silent  \n",
       "0                        0                      0                  0  \n",
       "1                        0                      0                  1  \n",
       "2                        0                      0                  0  \n",
       "3                        0                      0                  0  \n",
       "4                        0                      0                  0  "
      ]
     },
     "execution_count": 11,
     "metadata": {},
     "output_type": "execute_result"
    }
   ],
   "source": [
    "df_oneHot.head()"
   ]
  },
  {
   "cell_type": "markdown",
   "metadata": {},
   "source": [
    "The generation, sex, and age columns were onehot encoded.  We can go ahead building models and creating testing and training sets."
   ]
  },
  {
   "cell_type": "markdown",
   "metadata": {},
   "source": [
    "### Building Multiple Linear Regression Model"
   ]
  },
  {
   "cell_type": "code",
   "execution_count": 12,
   "metadata": {},
   "outputs": [],
   "source": [
    "#testing and training set\n",
    "X = df_oneHot.loc[:, df_oneHot.columns != 'suicides_per_100k'].values\n",
    "y = df_oneHot.loc[:, df_oneHot.columns == 'suicides_per_100k'].values.ravel()\n",
    "\n",
    "#X_train, X_test, y_train, y_test = train_test_split(X, y, test_size=0.20, random_state=None)"
   ]
  },
  {
   "cell_type": "code",
   "execution_count": 13,
   "metadata": {},
   "outputs": [
    {
     "data": {
      "text/plain": [
       "((27660, 16), (27660,))"
      ]
     },
     "execution_count": 13,
     "metadata": {},
     "output_type": "execute_result"
    }
   ],
   "source": [
    "X.shape, y.shape"
   ]
  },
  {
   "cell_type": "code",
   "execution_count": 14,
   "metadata": {},
   "outputs": [],
   "source": [
    "#building regression model for onehot encoded dataset\n",
    "\n",
    "linear_oneHot = LinearRegression()\n",
    "linear_oneHot.fit(X,y)\n",
    "y_pred = linear_oneHot.predict(X)"
   ]
  },
  {
   "cell_type": "markdown",
   "metadata": {},
   "source": [
    "The entire dataset was used for the training and testing set to ensure the best fit for the model"
   ]
  },
  {
   "cell_type": "markdown",
   "metadata": {},
   "source": [
    "### Predictions and  Evaluating Model"
   ]
  },
  {
   "cell_type": "code",
   "execution_count": 15,
   "metadata": {},
   "outputs": [],
   "source": [
    "# MAE formula from module 7 notebook\n",
    "def mae(_y, _y_pred):\n",
    "    return (len(_y)**-1) * np.sum(np.abs(_y_pred-_y))"
   ]
  },
  {
   "cell_type": "code",
   "execution_count": 16,
   "metadata": {},
   "outputs": [
    {
     "data": {
      "text/html": [
       "<div>\n",
       "<style scoped>\n",
       "    .dataframe tbody tr th:only-of-type {\n",
       "        vertical-align: middle;\n",
       "    }\n",
       "\n",
       "    .dataframe tbody tr th {\n",
       "        vertical-align: top;\n",
       "    }\n",
       "\n",
       "    .dataframe thead th {\n",
       "        text-align: right;\n",
       "    }\n",
       "</style>\n",
       "<table border=\"1\" class=\"dataframe\">\n",
       "  <thead>\n",
       "    <tr style=\"text-align: right;\">\n",
       "      <th></th>\n",
       "      <th>Real Values</th>\n",
       "      <th>Predicted Values</th>\n",
       "    </tr>\n",
       "  </thead>\n",
       "  <tbody>\n",
       "    <tr>\n",
       "      <th>0</th>\n",
       "      <td>6.71</td>\n",
       "      <td>17.626612</td>\n",
       "    </tr>\n",
       "    <tr>\n",
       "      <th>1</th>\n",
       "      <td>5.19</td>\n",
       "      <td>22.489399</td>\n",
       "    </tr>\n",
       "    <tr>\n",
       "      <th>2</th>\n",
       "      <td>4.83</td>\n",
       "      <td>2.793793</td>\n",
       "    </tr>\n",
       "    <tr>\n",
       "      <th>3</th>\n",
       "      <td>4.59</td>\n",
       "      <td>33.570011</td>\n",
       "    </tr>\n",
       "    <tr>\n",
       "      <th>4</th>\n",
       "      <td>3.28</td>\n",
       "      <td>20.609137</td>\n",
       "    </tr>\n",
       "    <tr>\n",
       "      <th>...</th>\n",
       "      <td>...</td>\n",
       "      <td>...</td>\n",
       "    </tr>\n",
       "    <tr>\n",
       "      <th>27655</th>\n",
       "      <td>2.96</td>\n",
       "      <td>6.345364</td>\n",
       "    </tr>\n",
       "    <tr>\n",
       "      <th>27656</th>\n",
       "      <td>2.58</td>\n",
       "      <td>14.133899</td>\n",
       "    </tr>\n",
       "    <tr>\n",
       "      <th>27657</th>\n",
       "      <td>2.17</td>\n",
       "      <td>7.266502</td>\n",
       "    </tr>\n",
       "    <tr>\n",
       "      <th>27658</th>\n",
       "      <td>1.67</td>\n",
       "      <td>-7.566316</td>\n",
       "    </tr>\n",
       "    <tr>\n",
       "      <th>27659</th>\n",
       "      <td>1.46</td>\n",
       "      <td>7.938706</td>\n",
       "    </tr>\n",
       "  </tbody>\n",
       "</table>\n",
       "<p>27660 rows × 2 columns</p>\n",
       "</div>"
      ],
      "text/plain": [
       "       Real Values  Predicted Values\n",
       "0             6.71         17.626612\n",
       "1             5.19         22.489399\n",
       "2             4.83          2.793793\n",
       "3             4.59         33.570011\n",
       "4             3.28         20.609137\n",
       "...            ...               ...\n",
       "27655         2.96          6.345364\n",
       "27656         2.58         14.133899\n",
       "27657         2.17          7.266502\n",
       "27658         1.67         -7.566316\n",
       "27659         1.46          7.938706\n",
       "\n",
       "[27660 rows x 2 columns]"
      ]
     },
     "execution_count": 16,
     "metadata": {},
     "output_type": "execute_result"
    }
   ],
   "source": [
    "#comparing test sets with predicted values\n",
    "\n",
    "comparison_oneHot = pd.DataFrame({'Real Values':y,'Predicted Values':y_pred})\n",
    "comparison_oneHot"
   ]
  },
  {
   "cell_type": "markdown",
   "metadata": {},
   "source": [
    "Many of the predicted values appear to be very different to the real values"
   ]
  },
  {
   "cell_type": "code",
   "execution_count": 17,
   "metadata": {},
   "outputs": [],
   "source": [
    "#MAE of one-hot encoded dataset\n",
    "\n",
    "#R2 score\n",
    "r2 = linear_oneHot.score(X,y)\n",
    "\n",
    "#getting number of coefficients\n",
    "coefficients = linear_oneHot.coef_"
   ]
  },
  {
   "cell_type": "code",
   "execution_count": 18,
   "metadata": {},
   "outputs": [
    {
     "name": "stdout",
     "output_type": "stream",
     "text": [
      "MAE of Linear Model using One_Hot Encoding: 10.1628\n",
      "\n",
      "R2_score = 0.2964\n",
      "\n",
      "Intercept = 258.6500\n",
      "\n",
      "There are 16 coefficients :\n",
      "[-1.22850841e-01  1.71472285e-05 -7.41640926e+00  7.41640926e+00\n",
      " -4.50423132e+00 -9.78746677e-01  2.33836871e+00 -1.34367764e+01\n",
      "  4.47466951e+00  1.21067161e+01 -3.87526869e-01 -5.12116385e-01\n",
      "  1.55432211e-01  2.01889689e+00  5.49694350e-01 -1.82438019e+00]\n"
     ]
    }
   ],
   "source": [
    "print(f\"MAE of Linear Model using One_Hot Encoding: {mae(y, y_pred):.4f}\\n\")\n",
    "print(f\"R2_score = {r2:.4f}\\n\")\n",
    "print(f\"Intercept = {linear_oneHot.intercept_:.4f}\\n\")\n",
    "print(f'There are {len(coefficients)} coefficients :' )\n",
    "print(coefficients)"
   ]
  },
  {
   "cell_type": "markdown",
   "metadata": {},
   "source": [
    "The model has only an R2 score of about 0.30 so only about 30% of the data fits the regression model.  The model using the one-hot encoded method has 16 coefficients.  Based on the MAE of 10.1628, the model's predictions differ from the actual data by about an absolute value of about 10."
   ]
  },
  {
   "cell_type": "markdown",
   "metadata": {},
   "source": [
    "### Grouping the Dataset for people who are age 20, male, and belong to generation X"
   ]
  },
  {
   "cell_type": "code",
   "execution_count": 19,
   "metadata": {},
   "outputs": [],
   "source": [
    "grouped = df_oneHot.copy()\n",
    "\n",
    "#grouping by age (age 20), generation (generation X), and sex (male)\n",
    "grouped = grouped[(grouped.age_15_24 == 1) & \n",
    "                  (grouped.generation_Generation_X == 1) & \n",
    "                  (grouped.sex_male == 1)]"
   ]
  },
  {
   "cell_type": "code",
   "execution_count": 20,
   "metadata": {
    "scrolled": true
   },
   "outputs": [
    {
     "data": {
      "text/html": [
       "<div>\n",
       "<style scoped>\n",
       "    .dataframe tbody tr th:only-of-type {\n",
       "        vertical-align: middle;\n",
       "    }\n",
       "\n",
       "    .dataframe tbody tr th {\n",
       "        vertical-align: top;\n",
       "    }\n",
       "\n",
       "    .dataframe thead th {\n",
       "        text-align: right;\n",
       "    }\n",
       "</style>\n",
       "<table border=\"1\" class=\"dataframe\">\n",
       "  <thead>\n",
       "    <tr style=\"text-align: right;\">\n",
       "      <th></th>\n",
       "      <th>year</th>\n",
       "      <th>suicides_per_100k</th>\n",
       "      <th>gdp_per_capita ($)</th>\n",
       "      <th>sex-female</th>\n",
       "      <th>sex_male</th>\n",
       "      <th>age_15_24</th>\n",
       "      <th>age-25-34 years</th>\n",
       "      <th>age-35-54 years</th>\n",
       "      <th>age-5-14 years</th>\n",
       "      <th>age-55-74 years</th>\n",
       "      <th>age-75+ years</th>\n",
       "      <th>generation-Boomers</th>\n",
       "      <th>generation-G.I. Generation</th>\n",
       "      <th>generation_Generation_X</th>\n",
       "      <th>generation-Generation Z</th>\n",
       "      <th>generation-Millenials</th>\n",
       "      <th>generation-Silent</th>\n",
       "    </tr>\n",
       "  </thead>\n",
       "  <tbody>\n",
       "    <tr>\n",
       "      <th>0</th>\n",
       "      <td>1987</td>\n",
       "      <td>6.71</td>\n",
       "      <td>796</td>\n",
       "      <td>0</td>\n",
       "      <td>1</td>\n",
       "      <td>1</td>\n",
       "      <td>0</td>\n",
       "      <td>0</td>\n",
       "      <td>0</td>\n",
       "      <td>0</td>\n",
       "      <td>0</td>\n",
       "      <td>0</td>\n",
       "      <td>0</td>\n",
       "      <td>1</td>\n",
       "      <td>0</td>\n",
       "      <td>0</td>\n",
       "      <td>0</td>\n",
       "    </tr>\n",
       "    <tr>\n",
       "      <th>13</th>\n",
       "      <td>1988</td>\n",
       "      <td>5.33</td>\n",
       "      <td>769</td>\n",
       "      <td>0</td>\n",
       "      <td>1</td>\n",
       "      <td>1</td>\n",
       "      <td>0</td>\n",
       "      <td>0</td>\n",
       "      <td>0</td>\n",
       "      <td>0</td>\n",
       "      <td>0</td>\n",
       "      <td>0</td>\n",
       "      <td>0</td>\n",
       "      <td>1</td>\n",
       "      <td>0</td>\n",
       "      <td>0</td>\n",
       "      <td>0</td>\n",
       "    </tr>\n",
       "    <tr>\n",
       "      <th>28</th>\n",
       "      <td>1989</td>\n",
       "      <td>3.71</td>\n",
       "      <td>833</td>\n",
       "      <td>0</td>\n",
       "      <td>1</td>\n",
       "      <td>1</td>\n",
       "      <td>0</td>\n",
       "      <td>0</td>\n",
       "      <td>0</td>\n",
       "      <td>0</td>\n",
       "      <td>0</td>\n",
       "      <td>0</td>\n",
       "      <td>0</td>\n",
       "      <td>1</td>\n",
       "      <td>0</td>\n",
       "      <td>0</td>\n",
       "      <td>0</td>\n",
       "    </tr>\n",
       "    <tr>\n",
       "      <th>37</th>\n",
       "      <td>1992</td>\n",
       "      <td>3.41</td>\n",
       "      <td>251</td>\n",
       "      <td>0</td>\n",
       "      <td>1</td>\n",
       "      <td>1</td>\n",
       "      <td>0</td>\n",
       "      <td>0</td>\n",
       "      <td>0</td>\n",
       "      <td>0</td>\n",
       "      <td>0</td>\n",
       "      <td>0</td>\n",
       "      <td>0</td>\n",
       "      <td>1</td>\n",
       "      <td>0</td>\n",
       "      <td>0</td>\n",
       "      <td>0</td>\n",
       "    </tr>\n",
       "    <tr>\n",
       "      <th>48</th>\n",
       "      <td>1993</td>\n",
       "      <td>7.40</td>\n",
       "      <td>437</td>\n",
       "      <td>0</td>\n",
       "      <td>1</td>\n",
       "      <td>1</td>\n",
       "      <td>0</td>\n",
       "      <td>0</td>\n",
       "      <td>0</td>\n",
       "      <td>0</td>\n",
       "      <td>0</td>\n",
       "      <td>0</td>\n",
       "      <td>0</td>\n",
       "      <td>1</td>\n",
       "      <td>0</td>\n",
       "      <td>0</td>\n",
       "      <td>0</td>\n",
       "    </tr>\n",
       "  </tbody>\n",
       "</table>\n",
       "</div>"
      ],
      "text/plain": [
       "    year  suicides_per_100k  gdp_per_capita ($)  sex-female  sex_male  \\\n",
       "0   1987               6.71                 796           0         1   \n",
       "13  1988               5.33                 769           0         1   \n",
       "28  1989               3.71                 833           0         1   \n",
       "37  1992               3.41                 251           0         1   \n",
       "48  1993               7.40                 437           0         1   \n",
       "\n",
       "    age_15_24  age-25-34 years  age-35-54 years  age-5-14 years  \\\n",
       "0           1                0                0               0   \n",
       "13          1                0                0               0   \n",
       "28          1                0                0               0   \n",
       "37          1                0                0               0   \n",
       "48          1                0                0               0   \n",
       "\n",
       "    age-55-74 years  age-75+ years  generation-Boomers  \\\n",
       "0                 0              0                   0   \n",
       "13                0              0                   0   \n",
       "28                0              0                   0   \n",
       "37                0              0                   0   \n",
       "48                0              0                   0   \n",
       "\n",
       "    generation-G.I. Generation  generation_Generation_X  \\\n",
       "0                            0                        1   \n",
       "13                           0                        1   \n",
       "28                           0                        1   \n",
       "37                           0                        1   \n",
       "48                           0                        1   \n",
       "\n",
       "    generation-Generation Z  generation-Millenials  generation-Silent  \n",
       "0                         0                      0                  0  \n",
       "13                        0                      0                  0  \n",
       "28                        0                      0                  0  \n",
       "37                        0                      0                  0  \n",
       "48                        0                      0                  0  "
      ]
     },
     "execution_count": 20,
     "metadata": {},
     "output_type": "execute_result"
    }
   ],
   "source": [
    "grouped.head()"
   ]
  },
  {
   "cell_type": "code",
   "execution_count": 21,
   "metadata": {},
   "outputs": [
    {
     "name": "stdout",
     "output_type": "stream",
     "text": [
      "There are 1057 people who are age 20, male, and of generation X\n",
      "\n"
     ]
    }
   ],
   "source": [
    "print(f\"There are {len(grouped.index)} people who are age 20, male, and of generation X\\n\")"
   ]
  },
  {
   "cell_type": "code",
   "execution_count": 22,
   "metadata": {},
   "outputs": [
    {
     "name": "stdout",
     "output_type": "stream",
     "text": [
      "Mean year of people who are age 20, male, and of generation X = 1993.0000\n",
      "\n",
      "Mean GDP of people who are age 20, male, and of generation X = 10910.0000\n"
     ]
    }
   ],
   "source": [
    "#findng the mean year and GDP of the grouped dataset\n",
    "year  = grouped['year'].values\n",
    "GDP = grouped['gdp_per_capita ($)'].values\n",
    "\n",
    "year_mean = round(np.mean(year),0)\n",
    "GDP_mean = round(np.mean(GDP),0)\n",
    "\n",
    "print(f\"Mean year of people who are age 20, male, and of generation X = {year_mean:.4f}\\n\")\n",
    "print(f\"Mean GDP of people who are age 20, male, and of generation X = {GDP_mean:.4f}\") "
   ]
  },
  {
   "cell_type": "markdown",
   "metadata": {},
   "source": [
    "The mean year and GDP of males who are 20 and of generation X will be used in the prediction input since we are not given a specific year or GDP"
   ]
  },
  {
   "cell_type": "code",
   "execution_count": 23,
   "metadata": {},
   "outputs": [
    {
     "name": "stdout",
     "output_type": "stream",
     "text": [
      "Someone who is age 20, male, and of generation X would have a predicted suicide rate of: 17.0629\n"
     ]
    }
   ],
   "source": [
    "#prediction input - 2 dimensional array\n",
    "input = np.array([[year_mean, GDP_mean, 0,1,1,0,0,0,0,0,0,0,1,0,0,0]])\n",
    "\n",
    "#new prediction of the suicide rate of someone who is age 20, male and generation X\n",
    "y_pred2 = linear_oneHot.predict(input)\n",
    "\n",
    "print(f\"Someone who is age 20, male, and of generation X would have a predicted suicide rate of: {y_pred2.item(0):.4f}\")"
   ]
  },
  {
   "cell_type": "code",
   "execution_count": 24,
   "metadata": {},
   "outputs": [],
   "source": [
    "#taking the entire grouped dataset and \n",
    "y_grouped = grouped.loc[:, grouped.columns == 'suicides_per_100k'].values.ravel()\n",
    "#grouped dataset without the suicides rate column\n",
    "y_pred_grouped = grouped.loc[:, grouped.columns != 'suicides_per_100k'].values\n",
    "\n",
    "#getting predictions of only those who are age 20, male, and of generation X\n",
    "y_pred3 = linear_oneHot.predict(y_pred_grouped)"
   ]
  },
  {
   "cell_type": "code",
   "execution_count": 25,
   "metadata": {},
   "outputs": [
    {
     "name": "stdout",
     "output_type": "stream",
     "text": [
      "MAE of Linear Model using One_Hot Encoding of Age 20, Male, Generation X Group: 9.5401\n",
      "\n"
     ]
    }
   ],
   "source": [
    "#finding MAE of the group of people who are age 20, male, and of generation x and the new hyperplane\n",
    "print(f\"MAE of Linear Model using One_Hot Encoding of Age 20, Male, Generation X Group: {mae(y_grouped, y_pred3):.4f}\\n\")"
   ]
  },
  {
   "cell_type": "markdown",
   "metadata": {},
   "source": [
    "Overall, the MAE of the entire dataset and predictions was 10.1628 when using one hot encoding. We also got a low R2 of about 30%. The MAE of the age 20, male, and generation group and predictions was better at 9.5401.  Someone who in that group is predicted to have a suicide rate of 17.0629 suicides/per 100k. We can now look whether the MAE and prediction changes when using a dataset using numerical encoding. The model had 16 coefficients."
   ]
  },
  {
   "cell_type": "markdown",
   "metadata": {},
   "source": [
    "## Problem 2"
   ]
  },
  {
   "cell_type": "markdown",
   "metadata": {},
   "source": [
    "*Now use the original sex, age and generation variables in numerical form and develop a new model. Use your model to predict the target value for the people with age 20, male, and generation X. What is the MAE error of this prediction? How many line coefficients are there? (Note that for this step you have to think of a way of encoding the original nominal age feature and generation feature into numerical features.)*"
   ]
  },
  {
   "cell_type": "markdown",
   "metadata": {},
   "source": [
    "### Numerical Form"
   ]
  },
  {
   "cell_type": "code",
   "execution_count": 26,
   "metadata": {},
   "outputs": [
    {
     "data": {
      "text/html": [
       "<div>\n",
       "<style scoped>\n",
       "    .dataframe tbody tr th:only-of-type {\n",
       "        vertical-align: middle;\n",
       "    }\n",
       "\n",
       "    .dataframe tbody tr th {\n",
       "        vertical-align: top;\n",
       "    }\n",
       "\n",
       "    .dataframe thead th {\n",
       "        text-align: right;\n",
       "    }\n",
       "</style>\n",
       "<table border=\"1\" class=\"dataframe\">\n",
       "  <thead>\n",
       "    <tr style=\"text-align: right;\">\n",
       "      <th></th>\n",
       "      <th>year</th>\n",
       "      <th>sex</th>\n",
       "      <th>age</th>\n",
       "      <th>suicides_per_100k</th>\n",
       "      <th>gdp_per_capita ($)</th>\n",
       "      <th>generation</th>\n",
       "    </tr>\n",
       "  </thead>\n",
       "  <tbody>\n",
       "    <tr>\n",
       "      <th>0</th>\n",
       "      <td>1987</td>\n",
       "      <td>1</td>\n",
       "      <td>20</td>\n",
       "      <td>6.71</td>\n",
       "      <td>796</td>\n",
       "      <td>4</td>\n",
       "    </tr>\n",
       "    <tr>\n",
       "      <th>1</th>\n",
       "      <td>1987</td>\n",
       "      <td>1</td>\n",
       "      <td>45</td>\n",
       "      <td>5.19</td>\n",
       "      <td>796</td>\n",
       "      <td>2</td>\n",
       "    </tr>\n",
       "    <tr>\n",
       "      <th>2</th>\n",
       "      <td>1987</td>\n",
       "      <td>0</td>\n",
       "      <td>20</td>\n",
       "      <td>4.83</td>\n",
       "      <td>796</td>\n",
       "      <td>4</td>\n",
       "    </tr>\n",
       "    <tr>\n",
       "      <th>3</th>\n",
       "      <td>1987</td>\n",
       "      <td>1</td>\n",
       "      <td>80</td>\n",
       "      <td>4.59</td>\n",
       "      <td>796</td>\n",
       "      <td>1</td>\n",
       "    </tr>\n",
       "    <tr>\n",
       "      <th>4</th>\n",
       "      <td>1987</td>\n",
       "      <td>1</td>\n",
       "      <td>30</td>\n",
       "      <td>3.28</td>\n",
       "      <td>796</td>\n",
       "      <td>3</td>\n",
       "    </tr>\n",
       "    <tr>\n",
       "      <th>5</th>\n",
       "      <td>1987</td>\n",
       "      <td>0</td>\n",
       "      <td>80</td>\n",
       "      <td>2.81</td>\n",
       "      <td>796</td>\n",
       "      <td>1</td>\n",
       "    </tr>\n",
       "    <tr>\n",
       "      <th>6</th>\n",
       "      <td>1987</td>\n",
       "      <td>0</td>\n",
       "      <td>45</td>\n",
       "      <td>2.15</td>\n",
       "      <td>796</td>\n",
       "      <td>2</td>\n",
       "    </tr>\n",
       "    <tr>\n",
       "      <th>7</th>\n",
       "      <td>1987</td>\n",
       "      <td>0</td>\n",
       "      <td>30</td>\n",
       "      <td>1.56</td>\n",
       "      <td>796</td>\n",
       "      <td>3</td>\n",
       "    </tr>\n",
       "    <tr>\n",
       "      <th>8</th>\n",
       "      <td>1987</td>\n",
       "      <td>1</td>\n",
       "      <td>65</td>\n",
       "      <td>0.73</td>\n",
       "      <td>796</td>\n",
       "      <td>1</td>\n",
       "    </tr>\n",
       "    <tr>\n",
       "      <th>9</th>\n",
       "      <td>1987</td>\n",
       "      <td>0</td>\n",
       "      <td>10</td>\n",
       "      <td>0.00</td>\n",
       "      <td>796</td>\n",
       "      <td>4</td>\n",
       "    </tr>\n",
       "  </tbody>\n",
       "</table>\n",
       "</div>"
      ],
      "text/plain": [
       "   year  sex  age  suicides_per_100k  gdp_per_capita ($)  generation\n",
       "0  1987    1   20               6.71                 796           4\n",
       "1  1987    1   45               5.19                 796           2\n",
       "2  1987    0   20               4.83                 796           4\n",
       "3  1987    1   80               4.59                 796           1\n",
       "4  1987    1   30               3.28                 796           3\n",
       "5  1987    0   80               2.81                 796           1\n",
       "6  1987    0   45               2.15                 796           2\n",
       "7  1987    0   30               1.56                 796           3\n",
       "8  1987    1   65               0.73                 796           1\n",
       "9  1987    0   10               0.00                 796           4"
      ]
     },
     "execution_count": 26,
     "metadata": {},
     "output_type": "execute_result"
    }
   ],
   "source": [
    "# converting sex, age, and generation to numerical data - using method similar from Module 3 assignment solution\n",
    "\n",
    "df_numerical = df.copy()\n",
    "\n",
    "#G.I. Generation - 1\n",
    "#Silent - 2\n",
    "#Boomers - 3\n",
    "#Generation X - 4\n",
    "#Millenials - 5\n",
    "#Generation Z - 6\n",
    "df_numerical.generation.replace(['G.I. Generation','Silent','Boomers','Generation X','Millenials','Generation Z'], \n",
    "                        [1,2,3,4,5,6], inplace=True)\n",
    "\n",
    "# 0 = female\n",
    "# 1 = male\n",
    "df_numerical.sex.replace(['female', 'male'], [0, 1], inplace=True)\n",
    "\n",
    "#5-14 = 10\n",
    "#15-24 = 20\n",
    "#25-34 = 30\n",
    "#35-54 = 45\n",
    "#55-74 = 65\n",
    "#75+ = 80\n",
    "df_numerical.age.replace(['5-14 years','15-24 years','25-34 years','35-54 years','55-74 years','75+ years'], \n",
    "                 [10,20,30,45,65,80], inplace=True)\n",
    "\n",
    "df_numerical.head(10)"
   ]
  },
  {
   "cell_type": "markdown",
   "metadata": {},
   "source": [
    "### Building Multiple Linear Regression Model"
   ]
  },
  {
   "cell_type": "code",
   "execution_count": 27,
   "metadata": {},
   "outputs": [],
   "source": [
    "#testing and training set\n",
    "X2 = df_numerical.loc[:, df_numerical.columns != 'suicides_per_100k'].values\n",
    "y2 = df_numerical.loc[:, df_numerical.columns == 'suicides_per_100k'].values.ravel()"
   ]
  },
  {
   "cell_type": "code",
   "execution_count": 28,
   "metadata": {},
   "outputs": [
    {
     "data": {
      "text/plain": [
       "((27660, 5), (27660,))"
      ]
     },
     "execution_count": 28,
     "metadata": {},
     "output_type": "execute_result"
    }
   ],
   "source": [
    "#checking shape of testing and training set\n",
    "X2.shape, y2.shape"
   ]
  },
  {
   "cell_type": "code",
   "execution_count": 29,
   "metadata": {},
   "outputs": [],
   "source": [
    "#building model with numerical dataset\n",
    "\n",
    "linear_numerical = LinearRegression()\n",
    "linear_numerical.fit(X2,y2)\n",
    "y_pred4 = linear_numerical.predict(X2)"
   ]
  },
  {
   "cell_type": "markdown",
   "metadata": {},
   "source": [
    "### Predictions and Evaluating Model"
   ]
  },
  {
   "cell_type": "code",
   "execution_count": 30,
   "metadata": {},
   "outputs": [
    {
     "data": {
      "text/html": [
       "<div>\n",
       "<style scoped>\n",
       "    .dataframe tbody tr th:only-of-type {\n",
       "        vertical-align: middle;\n",
       "    }\n",
       "\n",
       "    .dataframe tbody tr th {\n",
       "        vertical-align: top;\n",
       "    }\n",
       "\n",
       "    .dataframe thead th {\n",
       "        text-align: right;\n",
       "    }\n",
       "</style>\n",
       "<table border=\"1\" class=\"dataframe\">\n",
       "  <thead>\n",
       "    <tr style=\"text-align: right;\">\n",
       "      <th></th>\n",
       "      <th>Real Values</th>\n",
       "      <th>Predicted Values</th>\n",
       "    </tr>\n",
       "  </thead>\n",
       "  <tbody>\n",
       "    <tr>\n",
       "      <th>0</th>\n",
       "      <td>6.71</td>\n",
       "      <td>15.486308</td>\n",
       "    </tr>\n",
       "    <tr>\n",
       "      <th>1</th>\n",
       "      <td>5.19</td>\n",
       "      <td>22.337028</td>\n",
       "    </tr>\n",
       "    <tr>\n",
       "      <th>2</th>\n",
       "      <td>4.83</td>\n",
       "      <td>0.653489</td>\n",
       "    </tr>\n",
       "    <tr>\n",
       "      <th>3</th>\n",
       "      <td>4.59</td>\n",
       "      <td>31.827122</td>\n",
       "    </tr>\n",
       "    <tr>\n",
       "      <th>4</th>\n",
       "      <td>3.28</td>\n",
       "      <td>18.237809</td>\n",
       "    </tr>\n",
       "    <tr>\n",
       "      <th>...</th>\n",
       "      <td>...</td>\n",
       "      <td>...</td>\n",
       "    </tr>\n",
       "    <tr>\n",
       "      <th>27655</th>\n",
       "      <td>2.96</td>\n",
       "      <td>4.724534</td>\n",
       "    </tr>\n",
       "    <tr>\n",
       "      <th>27656</th>\n",
       "      <td>2.58</td>\n",
       "      <td>14.270692</td>\n",
       "    </tr>\n",
       "    <tr>\n",
       "      <th>27657</th>\n",
       "      <td>2.17</td>\n",
       "      <td>10.011196</td>\n",
       "    </tr>\n",
       "    <tr>\n",
       "      <th>27658</th>\n",
       "      <td>1.67</td>\n",
       "      <td>-4.821623</td>\n",
       "    </tr>\n",
       "    <tr>\n",
       "      <th>27659</th>\n",
       "      <td>1.46</td>\n",
       "      <td>10.171472</td>\n",
       "    </tr>\n",
       "  </tbody>\n",
       "</table>\n",
       "<p>27660 rows × 2 columns</p>\n",
       "</div>"
      ],
      "text/plain": [
       "       Real Values  Predicted Values\n",
       "0             6.71         15.486308\n",
       "1             5.19         22.337028\n",
       "2             4.83          0.653489\n",
       "3             4.59         31.827122\n",
       "4             3.28         18.237809\n",
       "...            ...               ...\n",
       "27655         2.96          4.724534\n",
       "27656         2.58         14.270692\n",
       "27657         2.17         10.011196\n",
       "27658         1.67         -4.821623\n",
       "27659         1.46         10.171472\n",
       "\n",
       "[27660 rows x 2 columns]"
      ]
     },
     "execution_count": 30,
     "metadata": {},
     "output_type": "execute_result"
    }
   ],
   "source": [
    "#comparing test sets with predicted values of entire numerical dataset\n",
    "\n",
    "comparison_numerical = pd.DataFrame({'Real Values':y2,'Predicted Values':y_pred4})\n",
    "comparison_numerical"
   ]
  },
  {
   "cell_type": "markdown",
   "metadata": {},
   "source": [
    "The predicted values appear to be very different to the actual values but seem to be a little closer compared to the one-hot encoded dataset."
   ]
  },
  {
   "cell_type": "code",
   "execution_count": 31,
   "metadata": {},
   "outputs": [],
   "source": [
    "#getting r2 score\n",
    "r2_numerical = linear_numerical.score(X2,y2)\n",
    "\n",
    "#getting number of coefficients\n",
    "coefficients_numerical = linear_numerical.coef_"
   ]
  },
  {
   "cell_type": "code",
   "execution_count": 32,
   "metadata": {},
   "outputs": [
    {
     "name": "stdout",
     "output_type": "stream",
     "text": [
      "MAE of Linear Model using Numerical Encoding: 10.3285\n",
      "\n",
      "R2_score = 0.2796\n",
      "\n",
      "Intercept = 193.7455\n",
      "\n",
      "There are 5 coefficients :\n",
      "[-9.97849110e-02  1.48328185e+01  2.69543696e-01  1.76108362e-05\n",
      " -5.60639421e-02]\n"
     ]
    }
   ],
   "source": [
    "print(f\"MAE of Linear Model using Numerical Encoding: {mae(y2, y_pred4):.4f}\\n\")\n",
    "print(f\"R2_score = {r2_numerical:.4f}\\n\")\n",
    "print(f\"Intercept = {linear_numerical.intercept_:.4f}\\n\")\n",
    "print(f'There are {len(coefficients_numerical)} coefficients :' )\n",
    "print(coefficients_numerical)"
   ]
  },
  {
   "cell_type": "markdown",
   "metadata": {},
   "source": [
    "The model has only an R2 score of about 0.28 so only about 28% of the data fits the regression model. The model using the one-hot encoded method has 5 coefficients. Based on the MAE of 10.3285, the model's predictions differ from the actual data by about an absolute value of about 10."
   ]
  },
  {
   "cell_type": "markdown",
   "metadata": {},
   "source": [
    "### Grouping the Dataset for people who are age 20, male, and belong to generation X"
   ]
  },
  {
   "cell_type": "code",
   "execution_count": 33,
   "metadata": {},
   "outputs": [],
   "source": [
    "grouped2 = df_numerical.copy()\n",
    "\n",
    "#grouping dataset to be people who are 20, male, and generation X\n",
    "grouped2 = grouped2[(grouped2.sex == 1) & (grouped2.age == 20) & (grouped2.generation == 4)]"
   ]
  },
  {
   "cell_type": "code",
   "execution_count": 34,
   "metadata": {},
   "outputs": [
    {
     "data": {
      "text/html": [
       "<div>\n",
       "<style scoped>\n",
       "    .dataframe tbody tr th:only-of-type {\n",
       "        vertical-align: middle;\n",
       "    }\n",
       "\n",
       "    .dataframe tbody tr th {\n",
       "        vertical-align: top;\n",
       "    }\n",
       "\n",
       "    .dataframe thead th {\n",
       "        text-align: right;\n",
       "    }\n",
       "</style>\n",
       "<table border=\"1\" class=\"dataframe\">\n",
       "  <thead>\n",
       "    <tr style=\"text-align: right;\">\n",
       "      <th></th>\n",
       "      <th>year</th>\n",
       "      <th>sex</th>\n",
       "      <th>age</th>\n",
       "      <th>suicides_per_100k</th>\n",
       "      <th>gdp_per_capita ($)</th>\n",
       "      <th>generation</th>\n",
       "    </tr>\n",
       "  </thead>\n",
       "  <tbody>\n",
       "    <tr>\n",
       "      <th>0</th>\n",
       "      <td>1987</td>\n",
       "      <td>1</td>\n",
       "      <td>20</td>\n",
       "      <td>6.71</td>\n",
       "      <td>796</td>\n",
       "      <td>4</td>\n",
       "    </tr>\n",
       "    <tr>\n",
       "      <th>13</th>\n",
       "      <td>1988</td>\n",
       "      <td>1</td>\n",
       "      <td>20</td>\n",
       "      <td>5.33</td>\n",
       "      <td>769</td>\n",
       "      <td>4</td>\n",
       "    </tr>\n",
       "    <tr>\n",
       "      <th>28</th>\n",
       "      <td>1989</td>\n",
       "      <td>1</td>\n",
       "      <td>20</td>\n",
       "      <td>3.71</td>\n",
       "      <td>833</td>\n",
       "      <td>4</td>\n",
       "    </tr>\n",
       "    <tr>\n",
       "      <th>37</th>\n",
       "      <td>1992</td>\n",
       "      <td>1</td>\n",
       "      <td>20</td>\n",
       "      <td>3.41</td>\n",
       "      <td>251</td>\n",
       "      <td>4</td>\n",
       "    </tr>\n",
       "    <tr>\n",
       "      <th>48</th>\n",
       "      <td>1993</td>\n",
       "      <td>1</td>\n",
       "      <td>20</td>\n",
       "      <td>7.40</td>\n",
       "      <td>437</td>\n",
       "      <td>4</td>\n",
       "    </tr>\n",
       "  </tbody>\n",
       "</table>\n",
       "</div>"
      ],
      "text/plain": [
       "    year  sex  age  suicides_per_100k  gdp_per_capita ($)  generation\n",
       "0   1987    1   20               6.71                 796           4\n",
       "13  1988    1   20               5.33                 769           4\n",
       "28  1989    1   20               3.71                 833           4\n",
       "37  1992    1   20               3.41                 251           4\n",
       "48  1993    1   20               7.40                 437           4"
      ]
     },
     "execution_count": 34,
     "metadata": {},
     "output_type": "execute_result"
    }
   ],
   "source": [
    "grouped2.head()"
   ]
  },
  {
   "cell_type": "code",
   "execution_count": 35,
   "metadata": {},
   "outputs": [
    {
     "name": "stdout",
     "output_type": "stream",
     "text": [
      "There are 1057 people who are age 20, male, and of generation X\n",
      "\n"
     ]
    }
   ],
   "source": [
    "print(f\"There are {len(grouped2.index)} people who are age 20, male, and of generation X\\n\")"
   ]
  },
  {
   "cell_type": "markdown",
   "metadata": {},
   "source": [
    "As we should, we get the same number of people in the age 20, male, and generation X group."
   ]
  },
  {
   "cell_type": "code",
   "execution_count": 36,
   "metadata": {},
   "outputs": [
    {
     "name": "stdout",
     "output_type": "stream",
     "text": [
      "Someone who is age 20, male, and of generation X would have a preidcted suicide rate of: 15.0657\n"
     ]
    }
   ],
   "source": [
    "#prediction input - 2 dimensional array\n",
    "input2 = np.array([[year_mean, 1, 20, GDP_mean, 4]])\n",
    "\n",
    "#new prediction of the suicide rate of someone who is age 20, male and generation X\n",
    "y_pred4 = linear_numerical.predict(input2)\n",
    "\n",
    "print(f\"Someone who is age 20, male, and of generation X would have a preidcted suicide rate of: {y_pred4.item(0):.4f}\")"
   ]
  },
  {
   "cell_type": "markdown",
   "metadata": {},
   "source": [
    "The suicide rate of 15.0657 is lower that what we predicted in problem 1"
   ]
  },
  {
   "cell_type": "code",
   "execution_count": 37,
   "metadata": {},
   "outputs": [],
   "source": [
    "#taking the entire grouped dataset and \n",
    "y_grouped2 = grouped2.loc[:, grouped2.columns == 'suicides_per_100k'].values.ravel()\n",
    "\n",
    "#grouped dataset without the suicides rate column\n",
    "y_pred_grouped2 = grouped2.loc[:, grouped2.columns != 'suicides_per_100k'].values\n",
    "\n",
    "#getting predictions of only those who are age 20, male, and of generation X\n",
    "y_pred5 = linear_numerical.predict(y_pred_grouped2)\n"
   ]
  },
  {
   "cell_type": "code",
   "execution_count": 38,
   "metadata": {},
   "outputs": [
    {
     "name": "stdout",
     "output_type": "stream",
     "text": [
      "MAE of Linear Model using Numerical Encoding of Age 20, Male, Generation X Group: 8.8951\n",
      "\n"
     ]
    }
   ],
   "source": [
    "print(f\"MAE of Linear Model using Numerical Encoding of Age 20, Male, Generation X Group: {mae(y_grouped2, y_pred5):.4f}\\n\")"
   ]
  },
  {
   "cell_type": "markdown",
   "metadata": {},
   "source": [
    "Overall, the MAE of the entire dataset and predictions was 10.3285 when using numerical encoding. We also got a low R2 of about 28%. The MAE of the age 20, male, and generation group and predictions was better at 8.8951. Someone who in that group is predicted to have suicide rate of 15.0657 suicides/per 100k. The model had 5 coefficients."
   ]
  },
  {
   "cell_type": "markdown",
   "metadata": {},
   "source": [
    "## Problem 3"
   ]
  },
  {
   "cell_type": "markdown",
   "metadata": {},
   "source": [
    "*Did you note any change in these two model performances?*"
   ]
  },
  {
   "cell_type": "markdown",
   "metadata": {},
   "source": [
    "The MAE using the one-hot encoded dataset resulted in a slightly better MAE of 10.1628 compared to the numerical encoded MAE of 10.3285 for the overall datset. However for the age 20, male, generation X group, the numerically encoded model resulted in a better MAE of 8.8951 compared to 9.5401 for the one-hot encoded model. The R2 of the one-hot encoded datasaet was also slightly better at 30% compared to the R2 of 28% for the numerical dataset. The numerical model predicted a suicide rate of about 15 suicides/100K for the age 20, male, and generation group which was lower than the predicted rate of 17 suicides/100k. Overall, the performance and predictions of both the models was very close. Therefore, I would chose to use the numerical encoding method for any nominal variables that have ordinality such as age and generation as well as any binary variables.  Numerical encoding produces less coefficients making the model more interpretable and more efficient especially with very large datasets.  The numerical encoded model had only 5 coefficients compared to 16 for the one-hot encoded dataset."
   ]
  },
  {
   "cell_type": "markdown",
   "metadata": {},
   "source": [
    "## Problem 4"
   ]
  },
  {
   "cell_type": "markdown",
   "metadata": {},
   "source": [
    "*What is the prediction for age 33, male and generation Alpha (i.e. the generation after generation Z)?*"
   ]
  },
  {
   "cell_type": "markdown",
   "metadata": {},
   "source": [
    "### One-Hot Encoding"
   ]
  },
  {
   "cell_type": "code",
   "execution_count": 39,
   "metadata": {},
   "outputs": [
    {
     "data": {
      "text/html": [
       "<div>\n",
       "<style scoped>\n",
       "    .dataframe tbody tr th:only-of-type {\n",
       "        vertical-align: middle;\n",
       "    }\n",
       "\n",
       "    .dataframe tbody tr th {\n",
       "        vertical-align: top;\n",
       "    }\n",
       "\n",
       "    .dataframe thead th {\n",
       "        text-align: right;\n",
       "    }\n",
       "</style>\n",
       "<table border=\"1\" class=\"dataframe\">\n",
       "  <thead>\n",
       "    <tr style=\"text-align: right;\">\n",
       "      <th></th>\n",
       "      <th>year</th>\n",
       "      <th>suicides_per_100k</th>\n",
       "      <th>gdp_per_capita ($)</th>\n",
       "      <th>sex-female</th>\n",
       "      <th>sex_male</th>\n",
       "      <th>age_15_24</th>\n",
       "      <th>age-25-34 years</th>\n",
       "      <th>age-35-54 years</th>\n",
       "      <th>age-5-14 years</th>\n",
       "      <th>age-55-74 years</th>\n",
       "      <th>age-75+ years</th>\n",
       "      <th>generation-Boomers</th>\n",
       "      <th>generation-G.I. Generation</th>\n",
       "      <th>generation_Generation_X</th>\n",
       "      <th>generation - Alpha</th>\n",
       "      <th>generation-Generation Z</th>\n",
       "      <th>generation-Millenials</th>\n",
       "      <th>generation-Silent</th>\n",
       "    </tr>\n",
       "  </thead>\n",
       "  <tbody>\n",
       "    <tr>\n",
       "      <th>0</th>\n",
       "      <td>1987</td>\n",
       "      <td>6.71</td>\n",
       "      <td>796</td>\n",
       "      <td>0</td>\n",
       "      <td>1</td>\n",
       "      <td>1</td>\n",
       "      <td>0</td>\n",
       "      <td>0</td>\n",
       "      <td>0</td>\n",
       "      <td>0</td>\n",
       "      <td>0</td>\n",
       "      <td>0</td>\n",
       "      <td>0</td>\n",
       "      <td>1</td>\n",
       "      <td>0</td>\n",
       "      <td>0</td>\n",
       "      <td>0</td>\n",
       "      <td>0</td>\n",
       "    </tr>\n",
       "    <tr>\n",
       "      <th>1</th>\n",
       "      <td>1987</td>\n",
       "      <td>5.19</td>\n",
       "      <td>796</td>\n",
       "      <td>0</td>\n",
       "      <td>1</td>\n",
       "      <td>0</td>\n",
       "      <td>0</td>\n",
       "      <td>1</td>\n",
       "      <td>0</td>\n",
       "      <td>0</td>\n",
       "      <td>0</td>\n",
       "      <td>0</td>\n",
       "      <td>0</td>\n",
       "      <td>0</td>\n",
       "      <td>0</td>\n",
       "      <td>0</td>\n",
       "      <td>0</td>\n",
       "      <td>1</td>\n",
       "    </tr>\n",
       "    <tr>\n",
       "      <th>2</th>\n",
       "      <td>1987</td>\n",
       "      <td>4.83</td>\n",
       "      <td>796</td>\n",
       "      <td>1</td>\n",
       "      <td>0</td>\n",
       "      <td>1</td>\n",
       "      <td>0</td>\n",
       "      <td>0</td>\n",
       "      <td>0</td>\n",
       "      <td>0</td>\n",
       "      <td>0</td>\n",
       "      <td>0</td>\n",
       "      <td>0</td>\n",
       "      <td>1</td>\n",
       "      <td>0</td>\n",
       "      <td>0</td>\n",
       "      <td>0</td>\n",
       "      <td>0</td>\n",
       "    </tr>\n",
       "    <tr>\n",
       "      <th>3</th>\n",
       "      <td>1987</td>\n",
       "      <td>4.59</td>\n",
       "      <td>796</td>\n",
       "      <td>0</td>\n",
       "      <td>1</td>\n",
       "      <td>0</td>\n",
       "      <td>0</td>\n",
       "      <td>0</td>\n",
       "      <td>0</td>\n",
       "      <td>0</td>\n",
       "      <td>1</td>\n",
       "      <td>0</td>\n",
       "      <td>1</td>\n",
       "      <td>0</td>\n",
       "      <td>0</td>\n",
       "      <td>0</td>\n",
       "      <td>0</td>\n",
       "      <td>0</td>\n",
       "    </tr>\n",
       "    <tr>\n",
       "      <th>4</th>\n",
       "      <td>1987</td>\n",
       "      <td>3.28</td>\n",
       "      <td>796</td>\n",
       "      <td>0</td>\n",
       "      <td>1</td>\n",
       "      <td>0</td>\n",
       "      <td>1</td>\n",
       "      <td>0</td>\n",
       "      <td>0</td>\n",
       "      <td>0</td>\n",
       "      <td>0</td>\n",
       "      <td>1</td>\n",
       "      <td>0</td>\n",
       "      <td>0</td>\n",
       "      <td>0</td>\n",
       "      <td>0</td>\n",
       "      <td>0</td>\n",
       "      <td>0</td>\n",
       "    </tr>\n",
       "  </tbody>\n",
       "</table>\n",
       "</div>"
      ],
      "text/plain": [
       "   year  suicides_per_100k  gdp_per_capita ($)  sex-female  sex_male  \\\n",
       "0  1987               6.71                 796           0         1   \n",
       "1  1987               5.19                 796           0         1   \n",
       "2  1987               4.83                 796           1         0   \n",
       "3  1987               4.59                 796           0         1   \n",
       "4  1987               3.28                 796           0         1   \n",
       "\n",
       "   age_15_24  age-25-34 years  age-35-54 years  age-5-14 years  \\\n",
       "0          1                0                0               0   \n",
       "1          0                0                1               0   \n",
       "2          1                0                0               0   \n",
       "3          0                0                0               0   \n",
       "4          0                1                0               0   \n",
       "\n",
       "   age-55-74 years  age-75+ years  generation-Boomers  \\\n",
       "0                0              0                   0   \n",
       "1                0              0                   0   \n",
       "2                0              0                   0   \n",
       "3                0              1                   0   \n",
       "4                0              0                   1   \n",
       "\n",
       "   generation-G.I. Generation  generation_Generation_X  generation - Alpha  \\\n",
       "0                           0                        1                   0   \n",
       "1                           0                        0                   0   \n",
       "2                           0                        1                   0   \n",
       "3                           1                        0                   0   \n",
       "4                           0                        0                   0   \n",
       "\n",
       "   generation-Generation Z  generation-Millenials  generation-Silent  \n",
       "0                        0                      0                  0  \n",
       "1                        0                      0                  1  \n",
       "2                        0                      0                  0  \n",
       "3                        0                      0                  0  \n",
       "4                        0                      0                  0  "
      ]
     },
     "execution_count": 39,
     "metadata": {},
     "output_type": "execute_result"
    }
   ],
   "source": [
    "#need to create new dataframe for new subfeature - alpha\n",
    "df_oneHot2 = df_oneHot.copy()\n",
    "\n",
    "#adding a new column for generation alpha\n",
    "#filled with a default of 0 since we do not have any data on people who \n",
    "df_oneHot2.insert(14, 'generation - Alpha', 0)\n",
    "\n",
    "df_oneHot2.head()"
   ]
  },
  {
   "cell_type": "code",
   "execution_count": 40,
   "metadata": {},
   "outputs": [],
   "source": [
    "#testing and training set\n",
    "X3 = df_oneHot2.loc[:, df_oneHot2.columns != 'suicides_per_100k'].values\n",
    "y3 = df_oneHot2.loc[:, df_oneHot2.columns == 'suicides_per_100k'].values.ravel()"
   ]
  },
  {
   "cell_type": "code",
   "execution_count": 41,
   "metadata": {},
   "outputs": [
    {
     "data": {
      "text/plain": [
       "LinearRegression()"
      ]
     },
     "execution_count": 41,
     "metadata": {},
     "output_type": "execute_result"
    }
   ],
   "source": [
    "#building model\n",
    "linear_oneHot2 = LinearRegression()\n",
    "linear_oneHot2.fit(X3,y3)"
   ]
  },
  {
   "cell_type": "code",
   "execution_count": 42,
   "metadata": {},
   "outputs": [
    {
     "name": "stdout",
     "output_type": "stream",
     "text": [
      "Mean of year for males who are 33 = 2001.0000\n",
      "Mean GDP for males who are 33 = 16816.0000\n"
     ]
    }
   ],
   "source": [
    "grouped3 = df_oneHot2.copy()\n",
    "\n",
    "#renaming 25-34 age column so easier to use\n",
    "grouped3.rename(columns = {'age-25-34 years':'age_25_34'}, inplace = True) \n",
    "\n",
    "#making group of those who are male and age 33 (between 25 and 34)\n",
    "grouped3 = grouped3[(grouped3.sex_male == 1) & (grouped3.age_25_34 == 1)]\n",
    "\n",
    "#grouped3.head()\n",
    "\n",
    "#finding mean year and GDP of males who are 33 (or between 25 and 34)\n",
    "year_mean2 = round(np.mean(grouped3['year'].values),0)\n",
    "GDP_mean2 =  round(np.mean(grouped3['gdp_per_capita ($)']),0)\n",
    "\n",
    "print(f'Mean of year for males who are 33 = {year_mean2:.4f}')\n",
    "print(f'Mean GDP for males who are 33 = {GDP_mean2:.4f}') "
   ]
  },
  {
   "cell_type": "code",
   "execution_count": 43,
   "metadata": {},
   "outputs": [
    {
     "name": "stdout",
     "output_type": "stream",
     "text": [
      "There are 2305 people who are 33 year old males\n",
      "\n"
     ]
    }
   ],
   "source": [
    "print(f\"There are {len(grouped3.index)} people who are 33 year old males\\n\")"
   ]
  },
  {
   "cell_type": "markdown",
   "metadata": {},
   "source": [
    "The mean year and GDP of males who are 33 (or between 25 and 34) will be used in the prediction input since we are not given a specific year or GDP.  There was no grouping of generation since we do not have any data on anyone who is of generation alpha."
   ]
  },
  {
   "cell_type": "code",
   "execution_count": 44,
   "metadata": {},
   "outputs": [
    {
     "name": "stdout",
     "output_type": "stream",
     "text": [
      "A 33 year old male would have a predicted suicide rate of: 19.5515\n"
     ]
    }
   ],
   "source": [
    "#prediction input - 2-Dimensional Array\n",
    "input3 = np.array([[year_mean2, GDP_mean2, 0,1,0,1,0,0,0,0,0,0,0,1,0,0,0]])\n",
    "\n",
    "#new prediction of suicide rate of someone who is a 33 year old male\n",
    "y_pred6 = linear_oneHot2.predict(input3)\n",
    "\n",
    "print(f\"A 33 year old male would have a predicted suicide rate of: {y_pred6.item(0):.4f}\")"
   ]
  },
  {
   "cell_type": "code",
   "execution_count": 45,
   "metadata": {},
   "outputs": [],
   "source": [
    "#taking the entire grouped datasaet\n",
    "y_grouped3 = grouped3.loc[:, grouped3.columns == 'suicides_per_100k'].values.ravel()\n",
    "\n",
    "##grouped datset withtout the suicide rate column\n",
    "y_pred_grouped3 = grouped3.loc[:, grouped3.columns != 'suicides_per_100k'].values\n",
    "\n",
    "#getting predictions of only 33 year old male group\n",
    "y_pred7 = linear_oneHot2.predict(y_pred_grouped3)"
   ]
  },
  {
   "cell_type": "code",
   "execution_count": 46,
   "metadata": {},
   "outputs": [
    {
     "name": "stdout",
     "output_type": "stream",
     "text": [
      "MAE of Linear Model using One_Hot Encoding of Entire Dataset: 15.8347\n",
      "\n",
      "MAE of Linear Model using One_Hot Encoding of 33 Year Old Male Group: 11.7911\n",
      "\n"
     ]
    }
   ],
   "source": [
    "print(f\"MAE of Linear Model using One_Hot Encoding of Entire Dataset: {mae(y3, y_pred6):.4f}\\n\")\n",
    "\n",
    "print(f\"MAE of Linear Model using One_Hot Encoding of 33 Year Old Male Group: {mae(y_grouped3, y_pred7):.4f}\\n\")"
   ]
  },
  {
   "cell_type": "markdown",
   "metadata": {},
   "source": [
    "### Numerical Encoding"
   ]
  },
  {
   "cell_type": "code",
   "execution_count": 47,
   "metadata": {},
   "outputs": [
    {
     "name": "stdout",
     "output_type": "stream",
     "text": [
      "A 33 year old male would have a predicted suicide rate of: 17.8755\n"
     ]
    }
   ],
   "source": [
    "#prediction input - 2-Dimensional Array\n",
    "input4 = np.array([[year_mean2, 1, 33, GDP_mean2,4]])\n",
    "\n",
    "#new prediction of suicide rate of someone who is a 33 year old male\n",
    "y_pred8 = linear_numerical.predict(input4)\n",
    "\n",
    "print(f\"A 33 year old male would have a predicted suicide rate of: {y_pred8.item(0):.4f}\")"
   ]
  },
  {
   "cell_type": "code",
   "execution_count": 48,
   "metadata": {},
   "outputs": [],
   "source": [
    "grouped4 = df_numerical.copy()\n",
    "#making group of 33 year old males\n",
    "grouped4 = grouped4[(grouped4.sex == 1) & (grouped4.age == 30)]\n",
    "\n",
    "#taking entire grouped dataset\n",
    "y_grouped4 = grouped4.loc[:, grouped4.columns == 'suicides_per_100k'].values.ravel()\n",
    "#grouped datset without suicide rate column\n",
    "y_pred_grouped4 = grouped4.loc[:, grouped4.columns != 'suicides_per_100k'].values\n",
    "\n",
    "#getting predictions of only 33 year old male group\n",
    "y_pred9 = linear_numerical.predict(y_pred_grouped4)"
   ]
  },
  {
   "cell_type": "code",
   "execution_count": 49,
   "metadata": {},
   "outputs": [
    {
     "name": "stdout",
     "output_type": "stream",
     "text": [
      "MAE of Linear Model using Numerical Encoding of Entire Dataset: 14.9028\n",
      "\n",
      "MAE of Linear Model using One_Hot Encoding of 33 Year Old Male Group: 11.4927\n",
      "\n"
     ]
    }
   ],
   "source": [
    "print(f\"MAE of Linear Model using Numerical Encoding of Entire Dataset: {mae(y2, y_pred8):.4f}\\n\")\n",
    "\n",
    "print(f\"MAE of Linear Model using One_Hot Encoding of 33 Year Old Male Group: {mae(y_grouped4, y_pred9):.4f}\\n\")"
   ]
  },
  {
   "cell_type": "markdown",
   "metadata": {},
   "source": [
    "The numerically encoded model predicted that a 33 year old male who is from the alpha generation would have a suicide rate of 17.8755 suicides/100k whereas the the one-hot encoded predicted the rate to be 19.5515 suicides/100k. The numerically encoded model had a slighly better MAE and was much easier to use since no extra information had to be added to the dataset.  However, in order to use the one-hot encoded method, an extra column had to be added to the dataset to account for the alpha generation."
   ]
  },
  {
   "cell_type": "markdown",
   "metadata": {},
   "source": [
    "## Problem 5"
   ]
  },
  {
   "cell_type": "markdown",
   "metadata": {},
   "source": [
    "*Give one advantage when using regression (as opposed to classification with nominal features) in terms of input \n",
    "data features.*"
   ]
  },
  {
   "cell_type": "markdown",
   "metadata": {},
   "source": [
    "One major advantage when using regression, as opposed to classification with nominal factors, is that it is not necessary to normalize values through binning or any other method.  For example, in our dataset, the age values are already binned for us. However, if we just had a list of ages, we could use the column as is if using linear regression.  However with classification, it would be necessary to bin the ages into categories and then to encode the ages."
   ]
  },
  {
   "cell_type": "markdown",
   "metadata": {},
   "source": [
    "## Problem 6"
   ]
  },
  {
   "cell_type": "markdown",
   "metadata": {},
   "source": [
    "*Give one advantage when using regular numerical values rather than one-hot encoding for regression.*"
   ]
  },
  {
   "cell_type": "markdown",
   "metadata": {},
   "source": [
    "One advantage using numerical vaues rather than one-hot encoding for regression is that when making predictions, if the prediction input includes a value that is not reflected in the dataset, the model is still able to make a prediction. You just have to adjust the input numbers to whatever you want to predict. Also, making changes to the prediction input is easier since you have much fewer columns.\n",
    "\n",
    "However, for one-hot encoded values, you need to pay attention to having the correct input column so that you are actually making the prediction you want. I believe making such changes to the input can easily cause more errors than with the numerical values.  You also may need to add additional variables/columns and then make sure that the input is adjusted for the additional variable/column. \n",
    "\n",
    "For example, in Problem 4, we were predicing the suicide rates for males that are 33 and of the alpha generation.  For the numerical value prediction input, I just had to adjust the age to 33, and the generation to 7 since alpha is the generation after Z.  However, for one-hot encoding, I had to change a column to reflect age 33.  Then I had to add an additional column for Generation Z and then make sure that the input corresponded correctly to the new set of columns."
   ]
  },
  {
   "cell_type": "markdown",
   "metadata": {},
   "source": [
    "## Problem 7"
   ]
  },
  {
   "cell_type": "markdown",
   "metadata": {},
   "source": [
    "*Now that you developed both a classifier and a regression model for this problem, which method do you suggest to your \n",
    "machine learning model customer and why?*"
   ]
  },
  {
   "cell_type": "markdown",
   "metadata": {},
   "source": [
    "I would suggest to my machine learning model customer that the regression model be used to evaluate the suicide data set.  When predicting the suicide rate using the regression model, you can get an actual value for the suicide rate, which is a more interpetable result than having an output of a High or Low suicide rate (as we get for classification).  Also, depending on the dataset that is used, less preprocessing may need to be performed if using linear regression since nominal features such as age would not need to be binned.  \n",
    "\n",
    "I would also suggest to incorporate other information from other datasets to improve the model. The models above had R2 scores of 30% or lower and so it should definitely improved. For example, a metric such as a Ranking of the Happiness Index could be added to the model. I found this article about other measures of human development (http://hdr.undp.org/sites/default/files/comim_template_0.pdf_. One such measure that is discussed is the Ranking of Happiness index from the World Happiness Report. The index measures the happiness of a population based on variables such social support, healthy life expectancy, absence of corruption, and social freedom as well as others. It would be interesting to determine the impact of adding this variable to the dataset and whether it would help improve the performance of the model."
   ]
  },
  {
   "cell_type": "markdown",
   "metadata": {},
   "source": [
    "***\n",
    "## References"
   ]
  },
  {
   "cell_type": "markdown",
   "metadata": {},
   "source": [
    "https://scikit-learn.org/stable/modules/generated/sklearn.linear_model.LinearRegression.html\n",
    "\n",
    "https://stackoverflow.com/questions/18674064/how-do-i-insert-a-column-at-a-specific-column-index-in-pandas\n",
    "\n",
    "https://www.geeksforgeeks.org/how-to-select-rows-from-a-dataframe-based-on-column-values/\n",
    "\n",
    "https://www.geeksforgeeks.org/ml-multiple-linear-regression-using-python/\n",
    "\n",
    "https://www.w3schools.com/python/python_ml_multiple_regression.asp\n",
    "\n",
    "https://towardsdatascience.com/multiple-linear-regression-model-using-python-machine-learning-d00c78f1172a\n",
    "\n",
    "https://towardsdatascience.com/machine-learning-basics-multiple-linear-regression-9c70f796e5e3\n",
    "\n",
    "https://numpy.org/doc/stable/reference/generated/numpy.ndarray.item.html"
   ]
  }
 ],
 "metadata": {
  "kernelspec": {
   "display_name": "Python 3",
   "language": "python",
   "name": "python3"
  },
  "language_info": {
   "codemirror_mode": {
    "name": "ipython",
    "version": 3
   },
   "file_extension": ".py",
   "mimetype": "text/x-python",
   "name": "python",
   "nbconvert_exporter": "python",
   "pygments_lexer": "ipython3",
   "version": "3.8.3"
  }
 },
 "nbformat": 4,
 "nbformat_minor": 4
}
