{
 "cells": [
  {
   "cell_type": "markdown",
   "metadata": {},
   "source": [
    "# Applied Machine Learning: Assignment \\#6"
   ]
  },
  {
   "cell_type": "markdown",
   "metadata": {},
   "source": [
    "### Sheetal Parikh\n",
    "EN.605.631.81<br>\n",
    "March 8, 2021\n",
    "***\n",
    "***"
   ]
  },
  {
   "cell_type": "markdown",
   "metadata": {},
   "source": [
    "*Continuing to the previous machine learning problem, let's get back to the pre-processed dataset Suicide Rates Overview 1985 to 2016 file. We would like to have a machine learning model to predict the suicide rate or even more explanatory target variables, in order to answer questions like what is the probability of a male, of this age, in that country to commit suicide.* "
   ]
  },
  {
   "cell_type": "markdown",
   "metadata": {},
   "source": [
    "## Problem 1\n",
    "*What is the dependent variable you decided? Why?*"
   ]
  },
  {
   "cell_type": "markdown",
   "metadata": {},
   "source": [
    "After exploring the suicide dataset in Assignment 3, I believe the Suicide Rates/100k population should be the dependent variable. The Suicide Rate/100k is a variable that can be compared between the different countries of various sizes. A similar variable, such as the number of suicides, would not be a good dependent variable because the overall number of suicides may just be higher in a country with a higher population. For example, 100,000 suicides in a heavily populated country means something different to 100,000 suicides in a country with a small population."
   ]
  },
  {
   "cell_type": "markdown",
   "metadata": {},
   "source": [
    "### Preprocessing Data Set similar to Module 3 Homework"
   ]
  },
  {
   "cell_type": "code",
   "execution_count": 1,
   "metadata": {},
   "outputs": [
    {
     "name": "stdout",
     "output_type": "stream",
     "text": [
      "N rows=27820, M columns=12\n"
     ]
    },
    {
     "data": {
      "text/html": [
       "<div>\n",
       "<style scoped>\n",
       "    .dataframe tbody tr th:only-of-type {\n",
       "        vertical-align: middle;\n",
       "    }\n",
       "\n",
       "    .dataframe tbody tr th {\n",
       "        vertical-align: top;\n",
       "    }\n",
       "\n",
       "    .dataframe thead th {\n",
       "        text-align: right;\n",
       "    }\n",
       "</style>\n",
       "<table border=\"1\" class=\"dataframe\">\n",
       "  <thead>\n",
       "    <tr style=\"text-align: right;\">\n",
       "      <th></th>\n",
       "      <th>country</th>\n",
       "      <th>year</th>\n",
       "      <th>sex</th>\n",
       "      <th>age</th>\n",
       "      <th>suicides_no</th>\n",
       "      <th>population</th>\n",
       "      <th>suicides/100k pop</th>\n",
       "      <th>country-year</th>\n",
       "      <th>HDI for year</th>\n",
       "      <th>gdp_for_year ($)</th>\n",
       "      <th>gdp_per_capita ($)</th>\n",
       "      <th>generation</th>\n",
       "    </tr>\n",
       "  </thead>\n",
       "  <tbody>\n",
       "    <tr>\n",
       "      <th>0</th>\n",
       "      <td>Albania</td>\n",
       "      <td>1987</td>\n",
       "      <td>male</td>\n",
       "      <td>15-24 years</td>\n",
       "      <td>21</td>\n",
       "      <td>312900</td>\n",
       "      <td>6.71</td>\n",
       "      <td>Albania1987</td>\n",
       "      <td>NaN</td>\n",
       "      <td>2,156,624,900</td>\n",
       "      <td>796</td>\n",
       "      <td>Generation X</td>\n",
       "    </tr>\n",
       "    <tr>\n",
       "      <th>1</th>\n",
       "      <td>Albania</td>\n",
       "      <td>1987</td>\n",
       "      <td>male</td>\n",
       "      <td>35-54 years</td>\n",
       "      <td>16</td>\n",
       "      <td>308000</td>\n",
       "      <td>5.19</td>\n",
       "      <td>Albania1987</td>\n",
       "      <td>NaN</td>\n",
       "      <td>2,156,624,900</td>\n",
       "      <td>796</td>\n",
       "      <td>Silent</td>\n",
       "    </tr>\n",
       "    <tr>\n",
       "      <th>2</th>\n",
       "      <td>Albania</td>\n",
       "      <td>1987</td>\n",
       "      <td>female</td>\n",
       "      <td>15-24 years</td>\n",
       "      <td>14</td>\n",
       "      <td>289700</td>\n",
       "      <td>4.83</td>\n",
       "      <td>Albania1987</td>\n",
       "      <td>NaN</td>\n",
       "      <td>2,156,624,900</td>\n",
       "      <td>796</td>\n",
       "      <td>Generation X</td>\n",
       "    </tr>\n",
       "    <tr>\n",
       "      <th>3</th>\n",
       "      <td>Albania</td>\n",
       "      <td>1987</td>\n",
       "      <td>male</td>\n",
       "      <td>75+ years</td>\n",
       "      <td>1</td>\n",
       "      <td>21800</td>\n",
       "      <td>4.59</td>\n",
       "      <td>Albania1987</td>\n",
       "      <td>NaN</td>\n",
       "      <td>2,156,624,900</td>\n",
       "      <td>796</td>\n",
       "      <td>G.I. Generation</td>\n",
       "    </tr>\n",
       "    <tr>\n",
       "      <th>4</th>\n",
       "      <td>Albania</td>\n",
       "      <td>1987</td>\n",
       "      <td>male</td>\n",
       "      <td>25-34 years</td>\n",
       "      <td>9</td>\n",
       "      <td>274300</td>\n",
       "      <td>3.28</td>\n",
       "      <td>Albania1987</td>\n",
       "      <td>NaN</td>\n",
       "      <td>2,156,624,900</td>\n",
       "      <td>796</td>\n",
       "      <td>Boomers</td>\n",
       "    </tr>\n",
       "  </tbody>\n",
       "</table>\n",
       "</div>"
      ],
      "text/plain": [
       "   country  year     sex          age  suicides_no  population  \\\n",
       "0  Albania  1987    male  15-24 years           21      312900   \n",
       "1  Albania  1987    male  35-54 years           16      308000   \n",
       "2  Albania  1987  female  15-24 years           14      289700   \n",
       "3  Albania  1987    male    75+ years            1       21800   \n",
       "4  Albania  1987    male  25-34 years            9      274300   \n",
       "\n",
       "   suicides/100k pop country-year  HDI for year  gdp_for_year ($)   \\\n",
       "0               6.71  Albania1987           NaN      2,156,624,900   \n",
       "1               5.19  Albania1987           NaN      2,156,624,900   \n",
       "2               4.83  Albania1987           NaN      2,156,624,900   \n",
       "3               4.59  Albania1987           NaN      2,156,624,900   \n",
       "4               3.28  Albania1987           NaN      2,156,624,900   \n",
       "\n",
       "   gdp_per_capita ($)       generation  \n",
       "0                 796     Generation X  \n",
       "1                 796           Silent  \n",
       "2                 796     Generation X  \n",
       "3                 796  G.I. Generation  \n",
       "4                 796          Boomers  "
      ]
     },
     "execution_count": 1,
     "metadata": {},
     "output_type": "execute_result"
    }
   ],
   "source": [
    "# imports for notebook\n",
    "%matplotlib inline\n",
    "import matplotlib.pyplot as plt\n",
    "import numpy as np\n",
    "import pandas as pd\n",
    "import seaborn as sns; sns.set(style=\"ticks\", color_codes=True)\n",
    "from sklearn.model_selection import StratifiedKFold, cross_val_score, train_test_split\n",
    "from sklearn.metrics import accuracy_score, precision_score, recall_score\n",
    "from sklearn import datasets, svm, metrics\n",
    "from sklearn.linear_model import LogisticRegression\n",
    "from sklearn.preprocessing import StandardScaler\n",
    "from sklearn.pipeline import make_pipeline\n",
    "from sklearn.ensemble import RandomForestClassifier\n",
    "from sklearn.tree import DecisionTreeClassifier\n",
    "from sklearn.naive_bayes import GaussianNB\n",
    "import os \n",
    "\n",
    "#checking current directory\n",
    "#print(os.getcwd() + \"\\n\")\n",
    "\n",
    "# change the current directory \n",
    "# to specified directory \n",
    "os.chdir(r\"C:\\Users\\Sheetal\\Documents\\Sheetal\") \n",
    "\n",
    "#Read in file\n",
    "relative_path = 'datasets/master.csv'\n",
    "df_org = pd.read_csv(relative_path)\n",
    "\n",
    "# Sanity check\n",
    "print(f'N rows={len(df_org)}, M columns={len(df_org.columns)}')\n",
    "\n",
    "#print first few rows to visualize dataset\n",
    "df_org.head()"
   ]
  },
  {
   "cell_type": "code",
   "execution_count": 2,
   "metadata": {},
   "outputs": [
    {
     "data": {
      "text/plain": [
       "country                   0\n",
       "year                      0\n",
       "sex                       0\n",
       "age                       0\n",
       "suicides_no               0\n",
       "population                0\n",
       "suicides_per_100k         0\n",
       "country-year              0\n",
       "HDI for year          19456\n",
       " gdp_for_year ($)         0\n",
       "gdp_per_capita ($)        0\n",
       "generation                0\n",
       "dtype: int64"
      ]
     },
     "execution_count": 2,
     "metadata": {},
     "output_type": "execute_result"
    }
   ],
   "source": [
    "#renaming suicides/100k pop column\n",
    "df_org.rename(columns = {'suicides/100k pop':'suicides_per_100k'}, inplace = True) \n",
    "\n",
    "df_org.isnull().sum()"
   ]
  },
  {
   "cell_type": "code",
   "execution_count": 3,
   "metadata": {},
   "outputs": [
    {
     "name": "stdout",
     "output_type": "stream",
     "text": [
      "Column Names:\n",
      "Index(['country', 'year', 'sex', 'age', 'suicides_no', 'population',\n",
      "       'suicides_per_100k', 'country-year', 'HDI for year',\n",
      "       ' gdp_for_year ($) ', 'gdp_per_capita ($)', 'generation'],\n",
      "      dtype='object')\n"
     ]
    }
   ],
   "source": [
    "print(f'Column Names:')\n",
    "\n",
    "#printing column names\n",
    "print(df_org.columns)"
   ]
  },
  {
   "cell_type": "code",
   "execution_count": 4,
   "metadata": {},
   "outputs": [
    {
     "name": "stdout",
     "output_type": "stream",
     "text": [
      "(27660, 12)\n"
     ]
    }
   ],
   "source": [
    "#dropping 2016 data because very few data points - data possibly incomplete for 2016\n",
    "df = df_org[df_org.year != 2016]\n",
    "print(df.shape)"
   ]
  },
  {
   "cell_type": "markdown",
   "metadata": {},
   "source": [
    "We started out with 27,820 data points and were able to elminate 160 data points due to incomplete data. We can now use the pearson method in pandas to calculate the correlation between variables as well as visualize correlation plots."
   ]
  },
  {
   "cell_type": "code",
   "execution_count": 5,
   "metadata": {},
   "outputs": [
    {
     "data": {
      "text/html": [
       "<div>\n",
       "<style scoped>\n",
       "    .dataframe tbody tr th:only-of-type {\n",
       "        vertical-align: middle;\n",
       "    }\n",
       "\n",
       "    .dataframe tbody tr th {\n",
       "        vertical-align: top;\n",
       "    }\n",
       "\n",
       "    .dataframe thead th {\n",
       "        text-align: right;\n",
       "    }\n",
       "</style>\n",
       "<table border=\"1\" class=\"dataframe\">\n",
       "  <thead>\n",
       "    <tr style=\"text-align: right;\">\n",
       "      <th></th>\n",
       "      <th>year</th>\n",
       "      <th>suicides_no</th>\n",
       "      <th>population</th>\n",
       "      <th>suicides_per_100k</th>\n",
       "      <th>HDI for year</th>\n",
       "      <th>gdp_per_capita ($)</th>\n",
       "    </tr>\n",
       "  </thead>\n",
       "  <tbody>\n",
       "    <tr>\n",
       "      <th>year</th>\n",
       "      <td>1.000000</td>\n",
       "      <td>-0.002953</td>\n",
       "      <td>0.011583</td>\n",
       "      <td>-0.039800</td>\n",
       "      <td>0.366786</td>\n",
       "      <td>0.338854</td>\n",
       "    </tr>\n",
       "    <tr>\n",
       "      <th>suicides_no</th>\n",
       "      <td>-0.002953</td>\n",
       "      <td>1.000000</td>\n",
       "      <td>0.616105</td>\n",
       "      <td>0.307103</td>\n",
       "      <td>0.151399</td>\n",
       "      <td>0.062168</td>\n",
       "    </tr>\n",
       "    <tr>\n",
       "      <th>population</th>\n",
       "      <td>0.011583</td>\n",
       "      <td>0.616105</td>\n",
       "      <td>1.000000</td>\n",
       "      <td>0.008461</td>\n",
       "      <td>0.102943</td>\n",
       "      <td>0.083006</td>\n",
       "    </tr>\n",
       "    <tr>\n",
       "      <th>suicides_per_100k</th>\n",
       "      <td>-0.039800</td>\n",
       "      <td>0.307103</td>\n",
       "      <td>0.008461</td>\n",
       "      <td>1.000000</td>\n",
       "      <td>0.074279</td>\n",
       "      <td>0.002015</td>\n",
       "    </tr>\n",
       "    <tr>\n",
       "      <th>HDI for year</th>\n",
       "      <td>0.366786</td>\n",
       "      <td>0.151399</td>\n",
       "      <td>0.102943</td>\n",
       "      <td>0.074279</td>\n",
       "      <td>1.000000</td>\n",
       "      <td>0.771228</td>\n",
       "    </tr>\n",
       "    <tr>\n",
       "      <th>gdp_per_capita ($)</th>\n",
       "      <td>0.338854</td>\n",
       "      <td>0.062168</td>\n",
       "      <td>0.083006</td>\n",
       "      <td>0.002015</td>\n",
       "      <td>0.771228</td>\n",
       "      <td>1.000000</td>\n",
       "    </tr>\n",
       "  </tbody>\n",
       "</table>\n",
       "</div>"
      ],
      "text/plain": [
       "                        year  suicides_no  population  suicides_per_100k  \\\n",
       "year                1.000000    -0.002953    0.011583          -0.039800   \n",
       "suicides_no        -0.002953     1.000000    0.616105           0.307103   \n",
       "population          0.011583     0.616105    1.000000           0.008461   \n",
       "suicides_per_100k  -0.039800     0.307103    0.008461           1.000000   \n",
       "HDI for year        0.366786     0.151399    0.102943           0.074279   \n",
       "gdp_per_capita ($)  0.338854     0.062168    0.083006           0.002015   \n",
       "\n",
       "                    HDI for year  gdp_per_capita ($)  \n",
       "year                    0.366786            0.338854  \n",
       "suicides_no             0.151399            0.062168  \n",
       "population              0.102943            0.083006  \n",
       "suicides_per_100k       0.074279            0.002015  \n",
       "HDI for year            1.000000            0.771228  \n",
       "gdp_per_capita ($)      0.771228            1.000000  "
      ]
     },
     "execution_count": 5,
     "metadata": {},
     "output_type": "execute_result"
    }
   ],
   "source": [
    "df.corr(method = 'pearson')"
   ]
  },
  {
   "cell_type": "markdown",
   "metadata": {},
   "source": [
    "No variable has a very strong correlation with suicides/100k pop, however, HDI for year appears to have the strongest of the other variables. Also, the number of suicides has a strong correlation with the population. Also, GDP per capita has a strong correlation with HDI."
   ]
  },
  {
   "cell_type": "code",
   "execution_count": 6,
   "metadata": {},
   "outputs": [
    {
     "data": {
      "text/html": [
       "<div>\n",
       "<style scoped>\n",
       "    .dataframe tbody tr th:only-of-type {\n",
       "        vertical-align: middle;\n",
       "    }\n",
       "\n",
       "    .dataframe tbody tr th {\n",
       "        vertical-align: top;\n",
       "    }\n",
       "\n",
       "    .dataframe thead th {\n",
       "        text-align: right;\n",
       "    }\n",
       "</style>\n",
       "<table border=\"1\" class=\"dataframe\">\n",
       "  <thead>\n",
       "    <tr style=\"text-align: right;\">\n",
       "      <th></th>\n",
       "      <th>country</th>\n",
       "      <th>year</th>\n",
       "      <th>sex</th>\n",
       "      <th>age</th>\n",
       "      <th>suicides_no</th>\n",
       "      <th>population</th>\n",
       "      <th>suicides_per_100k</th>\n",
       "      <th>country-year</th>\n",
       "      <th>HDI for year</th>\n",
       "      <th>gdp_for_year ($)</th>\n",
       "      <th>gdp_per_capita ($)</th>\n",
       "      <th>generation</th>\n",
       "    </tr>\n",
       "  </thead>\n",
       "  <tbody>\n",
       "    <tr>\n",
       "      <th>0</th>\n",
       "      <td>Albania</td>\n",
       "      <td>1987</td>\n",
       "      <td>1</td>\n",
       "      <td>20</td>\n",
       "      <td>21</td>\n",
       "      <td>312900</td>\n",
       "      <td>6.71</td>\n",
       "      <td>Albania1987</td>\n",
       "      <td>NaN</td>\n",
       "      <td>2,156,624,900</td>\n",
       "      <td>796</td>\n",
       "      <td>4</td>\n",
       "    </tr>\n",
       "    <tr>\n",
       "      <th>1</th>\n",
       "      <td>Albania</td>\n",
       "      <td>1987</td>\n",
       "      <td>1</td>\n",
       "      <td>45</td>\n",
       "      <td>16</td>\n",
       "      <td>308000</td>\n",
       "      <td>5.19</td>\n",
       "      <td>Albania1987</td>\n",
       "      <td>NaN</td>\n",
       "      <td>2,156,624,900</td>\n",
       "      <td>796</td>\n",
       "      <td>2</td>\n",
       "    </tr>\n",
       "    <tr>\n",
       "      <th>2</th>\n",
       "      <td>Albania</td>\n",
       "      <td>1987</td>\n",
       "      <td>0</td>\n",
       "      <td>20</td>\n",
       "      <td>14</td>\n",
       "      <td>289700</td>\n",
       "      <td>4.83</td>\n",
       "      <td>Albania1987</td>\n",
       "      <td>NaN</td>\n",
       "      <td>2,156,624,900</td>\n",
       "      <td>796</td>\n",
       "      <td>4</td>\n",
       "    </tr>\n",
       "    <tr>\n",
       "      <th>3</th>\n",
       "      <td>Albania</td>\n",
       "      <td>1987</td>\n",
       "      <td>1</td>\n",
       "      <td>80</td>\n",
       "      <td>1</td>\n",
       "      <td>21800</td>\n",
       "      <td>4.59</td>\n",
       "      <td>Albania1987</td>\n",
       "      <td>NaN</td>\n",
       "      <td>2,156,624,900</td>\n",
       "      <td>796</td>\n",
       "      <td>1</td>\n",
       "    </tr>\n",
       "    <tr>\n",
       "      <th>4</th>\n",
       "      <td>Albania</td>\n",
       "      <td>1987</td>\n",
       "      <td>1</td>\n",
       "      <td>30</td>\n",
       "      <td>9</td>\n",
       "      <td>274300</td>\n",
       "      <td>3.28</td>\n",
       "      <td>Albania1987</td>\n",
       "      <td>NaN</td>\n",
       "      <td>2,156,624,900</td>\n",
       "      <td>796</td>\n",
       "      <td>3</td>\n",
       "    </tr>\n",
       "    <tr>\n",
       "      <th>5</th>\n",
       "      <td>Albania</td>\n",
       "      <td>1987</td>\n",
       "      <td>0</td>\n",
       "      <td>80</td>\n",
       "      <td>1</td>\n",
       "      <td>35600</td>\n",
       "      <td>2.81</td>\n",
       "      <td>Albania1987</td>\n",
       "      <td>NaN</td>\n",
       "      <td>2,156,624,900</td>\n",
       "      <td>796</td>\n",
       "      <td>1</td>\n",
       "    </tr>\n",
       "    <tr>\n",
       "      <th>6</th>\n",
       "      <td>Albania</td>\n",
       "      <td>1987</td>\n",
       "      <td>0</td>\n",
       "      <td>45</td>\n",
       "      <td>6</td>\n",
       "      <td>278800</td>\n",
       "      <td>2.15</td>\n",
       "      <td>Albania1987</td>\n",
       "      <td>NaN</td>\n",
       "      <td>2,156,624,900</td>\n",
       "      <td>796</td>\n",
       "      <td>2</td>\n",
       "    </tr>\n",
       "    <tr>\n",
       "      <th>7</th>\n",
       "      <td>Albania</td>\n",
       "      <td>1987</td>\n",
       "      <td>0</td>\n",
       "      <td>30</td>\n",
       "      <td>4</td>\n",
       "      <td>257200</td>\n",
       "      <td>1.56</td>\n",
       "      <td>Albania1987</td>\n",
       "      <td>NaN</td>\n",
       "      <td>2,156,624,900</td>\n",
       "      <td>796</td>\n",
       "      <td>3</td>\n",
       "    </tr>\n",
       "    <tr>\n",
       "      <th>8</th>\n",
       "      <td>Albania</td>\n",
       "      <td>1987</td>\n",
       "      <td>1</td>\n",
       "      <td>65</td>\n",
       "      <td>1</td>\n",
       "      <td>137500</td>\n",
       "      <td>0.73</td>\n",
       "      <td>Albania1987</td>\n",
       "      <td>NaN</td>\n",
       "      <td>2,156,624,900</td>\n",
       "      <td>796</td>\n",
       "      <td>1</td>\n",
       "    </tr>\n",
       "    <tr>\n",
       "      <th>9</th>\n",
       "      <td>Albania</td>\n",
       "      <td>1987</td>\n",
       "      <td>0</td>\n",
       "      <td>10</td>\n",
       "      <td>0</td>\n",
       "      <td>311000</td>\n",
       "      <td>0.00</td>\n",
       "      <td>Albania1987</td>\n",
       "      <td>NaN</td>\n",
       "      <td>2,156,624,900</td>\n",
       "      <td>796</td>\n",
       "      <td>4</td>\n",
       "    </tr>\n",
       "  </tbody>\n",
       "</table>\n",
       "</div>"
      ],
      "text/plain": [
       "   country  year  sex  age  suicides_no  population  suicides_per_100k  \\\n",
       "0  Albania  1987    1   20           21      312900               6.71   \n",
       "1  Albania  1987    1   45           16      308000               5.19   \n",
       "2  Albania  1987    0   20           14      289700               4.83   \n",
       "3  Albania  1987    1   80            1       21800               4.59   \n",
       "4  Albania  1987    1   30            9      274300               3.28   \n",
       "5  Albania  1987    0   80            1       35600               2.81   \n",
       "6  Albania  1987    0   45            6      278800               2.15   \n",
       "7  Albania  1987    0   30            4      257200               1.56   \n",
       "8  Albania  1987    1   65            1      137500               0.73   \n",
       "9  Albania  1987    0   10            0      311000               0.00   \n",
       "\n",
       "  country-year  HDI for year  gdp_for_year ($)   gdp_per_capita ($)  \\\n",
       "0  Albania1987           NaN      2,156,624,900                 796   \n",
       "1  Albania1987           NaN      2,156,624,900                 796   \n",
       "2  Albania1987           NaN      2,156,624,900                 796   \n",
       "3  Albania1987           NaN      2,156,624,900                 796   \n",
       "4  Albania1987           NaN      2,156,624,900                 796   \n",
       "5  Albania1987           NaN      2,156,624,900                 796   \n",
       "6  Albania1987           NaN      2,156,624,900                 796   \n",
       "7  Albania1987           NaN      2,156,624,900                 796   \n",
       "8  Albania1987           NaN      2,156,624,900                 796   \n",
       "9  Albania1987           NaN      2,156,624,900                 796   \n",
       "\n",
       "   generation  \n",
       "0           4  \n",
       "1           2  \n",
       "2           4  \n",
       "3           1  \n",
       "4           3  \n",
       "5           1  \n",
       "6           2  \n",
       "7           3  \n",
       "8           1  \n",
       "9           4  "
      ]
     },
     "execution_count": 6,
     "metadata": {},
     "output_type": "execute_result"
    }
   ],
   "source": [
    "# converting sex, age, and generation to numerical data - using method similar from Module 3 assignment solution\n",
    "\n",
    "df2 = df.copy()\n",
    "\n",
    "df2.generation.replace(['G.I. Generation','Silent','Boomers','Generation X','Millenials','Generation Z'], \n",
    "                        [1,2,3,4,5,6], inplace=True)\n",
    "\n",
    "df2.sex.replace(['female', 'male'], [0, 1], inplace=True)\n",
    "\n",
    "df2.age.replace(['5-14 years','15-24 years','25-34 years','35-54 years','55-74 years','75+ years'], \n",
    "                 [10,20,30,45,65,80], inplace=True)\n",
    "\n",
    "df2.head(10)"
   ]
  },
  {
   "cell_type": "code",
   "execution_count": 7,
   "metadata": {},
   "outputs": [
    {
     "data": {
      "text/plain": [
       "<function matplotlib.pyplot.show(*args, **kw)>"
      ]
     },
     "execution_count": 7,
     "metadata": {},
     "output_type": "execute_result"
    },
    {
     "data": {
      "image/png": "[encoded data removed]",
      "text/plain": [
       "<Figure size 1224x432 with 8 Axes>"
      ]
     },
     "metadata": {},
     "output_type": "display_data"
    }
   ],
   "source": [
    "#plotting variables using method from Module 3 assignment solution\n",
    "\n",
    "df2.hist(column = ['year', 'sex', 'age', 'population', \n",
    "                   'suicides_per_100k', 'HDI for year', 'gdp_per_capita ($)', 'generation'],\n",
    "        log=True,\n",
    "        figsize=(17, 6), layout=(2,4))\n",
    "\n",
    "plt.show"
   ]
  },
  {
   "cell_type": "code",
   "execution_count": 8,
   "metadata": {},
   "outputs": [
    {
     "data": {
      "text/html": [
       "<div>\n",
       "<style scoped>\n",
       "    .dataframe tbody tr th:only-of-type {\n",
       "        vertical-align: middle;\n",
       "    }\n",
       "\n",
       "    .dataframe tbody tr th {\n",
       "        vertical-align: top;\n",
       "    }\n",
       "\n",
       "    .dataframe thead th {\n",
       "        text-align: right;\n",
       "    }\n",
       "</style>\n",
       "<table border=\"1\" class=\"dataframe\">\n",
       "  <thead>\n",
       "    <tr style=\"text-align: right;\">\n",
       "      <th></th>\n",
       "      <th>year</th>\n",
       "      <th>sex</th>\n",
       "      <th>age</th>\n",
       "      <th>suicides_per_100k</th>\n",
       "      <th>gdp_per_capita ($)</th>\n",
       "      <th>generation</th>\n",
       "    </tr>\n",
       "  </thead>\n",
       "  <tbody>\n",
       "    <tr>\n",
       "      <th>0</th>\n",
       "      <td>1987</td>\n",
       "      <td>1</td>\n",
       "      <td>20</td>\n",
       "      <td>6.71</td>\n",
       "      <td>796</td>\n",
       "      <td>4</td>\n",
       "    </tr>\n",
       "    <tr>\n",
       "      <th>1</th>\n",
       "      <td>1987</td>\n",
       "      <td>1</td>\n",
       "      <td>45</td>\n",
       "      <td>5.19</td>\n",
       "      <td>796</td>\n",
       "      <td>2</td>\n",
       "    </tr>\n",
       "    <tr>\n",
       "      <th>2</th>\n",
       "      <td>1987</td>\n",
       "      <td>0</td>\n",
       "      <td>20</td>\n",
       "      <td>4.83</td>\n",
       "      <td>796</td>\n",
       "      <td>4</td>\n",
       "    </tr>\n",
       "    <tr>\n",
       "      <th>3</th>\n",
       "      <td>1987</td>\n",
       "      <td>1</td>\n",
       "      <td>80</td>\n",
       "      <td>4.59</td>\n",
       "      <td>796</td>\n",
       "      <td>1</td>\n",
       "    </tr>\n",
       "    <tr>\n",
       "      <th>4</th>\n",
       "      <td>1987</td>\n",
       "      <td>1</td>\n",
       "      <td>30</td>\n",
       "      <td>3.28</td>\n",
       "      <td>796</td>\n",
       "      <td>3</td>\n",
       "    </tr>\n",
       "  </tbody>\n",
       "</table>\n",
       "</div>"
      ],
      "text/plain": [
       "   year  sex  age  suicides_per_100k  gdp_per_capita ($)  generation\n",
       "0  1987    1   20               6.71                 796           4\n",
       "1  1987    1   45               5.19                 796           2\n",
       "2  1987    0   20               4.83                 796           4\n",
       "3  1987    1   80               4.59                 796           1\n",
       "4  1987    1   30               3.28                 796           3"
      ]
     },
     "execution_count": 8,
     "metadata": {},
     "output_type": "execute_result"
    }
   ],
   "source": [
    "#dropping features\n",
    "df3 = df2.copy()\n",
    "df3.drop(columns='suicides_no', inplace=True)\n",
    "df3.drop(columns='population', inplace=True)\n",
    "df3.drop(columns='country', inplace=True)\n",
    "df3.drop(columns=' gdp_for_year ($) ', inplace=True)\n",
    "df3.drop(columns='country-year', inplace=True)\n",
    "df3.drop(columns='HDI for year', inplace=True)\n",
    "\n",
    "#printing updated data set\n",
    "df3.head()"
   ]
  },
  {
   "cell_type": "markdown",
   "metadata": {},
   "source": [
    "For the Module 3 homework, I had choses to keep the following dependent variables: Year, Country, Sex, Age, Generation, and HDI for year.  However, the SVM model I used had a low recall.  I believe recall is important for predicting between a high or low suicide rate.  Having low recall would mean that the model misses out on identifying people who are potentially at a high risk of suicide.  The HDI for year variable has too many null values so I believe using the mean per country may not be sufficient and should just be removed. Also, I decided to remove the country variable because I wanted to limit the number of columns that would be added to the dataset.  I do believe variables such as HDI or GDP per capita would have some impact on suicide rates so since I removed HDI, I decided to keep GDP per capita in it's place."
   ]
  },
  {
   "cell_type": "code",
   "execution_count": 9,
   "metadata": {},
   "outputs": [
    {
     "data": {
      "text/plain": [
       "year                  0\n",
       "sex                   0\n",
       "age                   0\n",
       "suicides_per_100k     0\n",
       "gdp_per_capita ($)    0\n",
       "generation            0\n",
       "dtype: int64"
      ]
     },
     "execution_count": 9,
     "metadata": {},
     "output_type": "execute_result"
    }
   ],
   "source": [
    "#checking if we eliminated the NaNs\n",
    "df3.isnull().sum()"
   ]
  },
  {
   "cell_type": "code",
   "execution_count": 10,
   "metadata": {},
   "outputs": [
    {
     "name": "stdout",
     "output_type": "stream",
     "text": [
      "year                    int64\n",
      "sex                     int64\n",
      "age                     int64\n",
      "suicides_per_100k     float64\n",
      "gdp_per_capita ($)      int64\n",
      "generation              int64\n",
      "dtype: object\n"
     ]
    }
   ],
   "source": [
    "print(df3.dtypes)"
   ]
  },
  {
   "cell_type": "markdown",
   "metadata": {},
   "source": [
    "***\n",
    "## Problem 2\n",
    "*Set the dependent variable into two categories based on a defensible criteria. (Hint: skirts of the probability density function)*\n"
   ]
  },
  {
   "cell_type": "code",
   "execution_count": 11,
   "metadata": {},
   "outputs": [
    {
     "name": "stdout",
     "output_type": "stream",
     "text": [
      "Mean of suicides_per_100k = 12.8126\n",
      "Standard Deviation of suicides_per_100k = 18.9717\n"
     ]
    }
   ],
   "source": [
    "#suicide stats of target variable\n",
    "\n",
    "target  = df3['suicides_per_100k'].values\n",
    "\n",
    "target_mean = np.mean(target)\n",
    "target_stdev = np.std(target)\n",
    "\n",
    "print(f'Mean of suicides_per_100k = {target_mean:.4f}')\n",
    "print(f'Standard Deviation of suicides_per_100k = {target_stdev:.4f}') \n"
   ]
  },
  {
   "cell_type": "code",
   "execution_count": 12,
   "metadata": {},
   "outputs": [
    {
     "data": {
      "image/png": "[encoded data removed]",
      "text/plain": [
       "<Figure size 432x288 with 1 Axes>"
      ]
     },
     "metadata": {},
     "output_type": "display_data"
    }
   ],
   "source": [
    "#plotting low and high rate of suicide if using only the mean suicides per 100k as the cuttoff\n",
    "#from module 3 homeowork solution\n",
    "\n",
    "suicideRate2 = pd.cut(df3['suicides_per_100k'], bins = [np.NINF, target_mean, np.Infinity], \n",
    "                     labels = [\"Low\", \"High\"])\n",
    "\n",
    "suicideRate2.value_counts().plot(kind='bar');"
   ]
  },
  {
   "cell_type": "code",
   "execution_count": 13,
   "metadata": {},
   "outputs": [
    {
     "data": {
      "image/png": "[encoded data removed]",
      "text/plain": [
       "<Figure size 432x288 with 1 Axes>"
      ]
     },
     "metadata": {},
     "output_type": "display_data"
    }
   ],
   "source": [
    "#plotting low and high rate of suicide if using only the mean suicides per 100k + 1/4 the standard deviation \n",
    "#of the suicides per 100k as the cuttoff\n",
    "\n",
    "#from module 3 homeowork solution\n",
    "\n",
    "suicideRate3 = pd.cut(df3['suicides_per_100k'], bins = [np.NINF, (target_mean + 0.25 * target_stdev), np.Infinity], \n",
    "                     labels = [\"Low\", \"High\"])\n",
    "\n",
    "suicideRate3.value_counts().plot(kind='bar');"
   ]
  },
  {
   "cell_type": "code",
   "execution_count": 14,
   "metadata": {},
   "outputs": [
    {
     "name": "stdout",
     "output_type": "stream",
     "text": [
      "Independent Variables: ['year', 'sex', 'age', 'gdp_per_capita ($)', 'generation']\n"
     ]
    }
   ],
   "source": [
    "#listing features\n",
    "\n",
    "features = list(df3.columns)\n",
    "\n",
    "features.remove('suicides_per_100k')\n",
    "print(f'Independent Variables: {features}')"
   ]
  },
  {
   "cell_type": "code",
   "execution_count": 15,
   "metadata": {},
   "outputs": [],
   "source": [
    "df4 = df3.copy()\n",
    "df_mean = df3.copy()\n",
    "\n",
    "#adding risk column to dataframe\n",
    "df4['risk'] = df4.suicides_per_100k.copy()\n",
    "df_mean['risk'] = df_mean.suicides_per_100k.copy()\n",
    "\n",
    "#if a value in the suicide/100k column is below the mean of the column than it will be considered \"low\" risk \n",
    "#if a value in the suicide/100k column is equal to or above the mean of the column than it will be considered \"high\" risk\n",
    "df4['risk'] = np.where(df4.risk < (target_mean + 0.25 * target_stdev), 0, 1)\n",
    "df_mean['risk'] = np.where(df_mean.risk < df_mean.suicides_per_100k.mean(), 0, 1)"
   ]
  },
  {
   "cell_type": "markdown",
   "metadata": {},
   "source": [
    "For the module 3 homework, I had used only the mean suicides per 100k as the cutoff between low and high suicides.  I am using that threshold as well as the mean suicides per 100k plus 1/4 the standard deviation of the suicides per 100k to compare whether one threshold works better. A separate column called \"risk\" is added to show whether the person is being identified as low risk (0) or high risk (1)."
   ]
  },
  {
   "cell_type": "code",
   "execution_count": 16,
   "metadata": {},
   "outputs": [
    {
     "name": "stdout",
     "output_type": "stream",
     "text": [
      "Threshold for High risk is Mean\n"
     ]
    },
    {
     "data": {
      "text/plain": [
       "0    18956\n",
       "1     8704\n",
       "Name: risk, dtype: int64"
      ]
     },
     "execution_count": 16,
     "metadata": {},
     "output_type": "execute_result"
    }
   ],
   "source": [
    "print('Threshold for High risk is Mean')\n",
    "df_mean['risk'].value_counts()"
   ]
  },
  {
   "cell_type": "code",
   "execution_count": 17,
   "metadata": {},
   "outputs": [
    {
     "name": "stdout",
     "output_type": "stream",
     "text": [
      "Threshold for High risk is Mean + 1/4 the standard deviation\n"
     ]
    },
    {
     "data": {
      "text/plain": [
       "0    21114\n",
       "1     6546\n",
       "Name: risk, dtype: int64"
      ]
     },
     "execution_count": 17,
     "metadata": {},
     "output_type": "execute_result"
    }
   ],
   "source": [
    "print('Threshold for High risk is Mean + 1/4 the standard deviation')\n",
    "df4['risk'].value_counts()"
   ]
  },
  {
   "cell_type": "markdown",
   "metadata": {},
   "source": [
    "As we can see in the graphs and breakdown above, the threshold using only the mean suicide rate has roughly 2000 more people identified as having a high risk of suicide"
   ]
  },
  {
   "cell_type": "code",
   "execution_count": 18,
   "metadata": {},
   "outputs": [],
   "source": [
    "#removing suicides_per_100k column since it is now redundant with the \"risk\" column\n",
    "\n",
    "df4.drop(columns='suicides_per_100k', inplace=True)\n",
    "df_mean.drop(columns='suicides_per_100k', inplace=True)"
   ]
  },
  {
   "cell_type": "code",
   "execution_count": 19,
   "metadata": {},
   "outputs": [
    {
     "data": {
      "text/html": [
       "<div>\n",
       "<style scoped>\n",
       "    .dataframe tbody tr th:only-of-type {\n",
       "        vertical-align: middle;\n",
       "    }\n",
       "\n",
       "    .dataframe tbody tr th {\n",
       "        vertical-align: top;\n",
       "    }\n",
       "\n",
       "    .dataframe thead th {\n",
       "        text-align: right;\n",
       "    }\n",
       "</style>\n",
       "<table border=\"1\" class=\"dataframe\">\n",
       "  <thead>\n",
       "    <tr style=\"text-align: right;\">\n",
       "      <th></th>\n",
       "      <th>year</th>\n",
       "      <th>sex</th>\n",
       "      <th>age</th>\n",
       "      <th>gdp_per_capita ($)</th>\n",
       "      <th>generation</th>\n",
       "      <th>risk</th>\n",
       "    </tr>\n",
       "  </thead>\n",
       "  <tbody>\n",
       "    <tr>\n",
       "      <th>0</th>\n",
       "      <td>1987</td>\n",
       "      <td>1</td>\n",
       "      <td>20</td>\n",
       "      <td>796</td>\n",
       "      <td>4</td>\n",
       "      <td>0</td>\n",
       "    </tr>\n",
       "    <tr>\n",
       "      <th>1</th>\n",
       "      <td>1987</td>\n",
       "      <td>1</td>\n",
       "      <td>45</td>\n",
       "      <td>796</td>\n",
       "      <td>2</td>\n",
       "      <td>0</td>\n",
       "    </tr>\n",
       "    <tr>\n",
       "      <th>2</th>\n",
       "      <td>1987</td>\n",
       "      <td>0</td>\n",
       "      <td>20</td>\n",
       "      <td>796</td>\n",
       "      <td>4</td>\n",
       "      <td>0</td>\n",
       "    </tr>\n",
       "    <tr>\n",
       "      <th>3</th>\n",
       "      <td>1987</td>\n",
       "      <td>1</td>\n",
       "      <td>80</td>\n",
       "      <td>796</td>\n",
       "      <td>1</td>\n",
       "      <td>0</td>\n",
       "    </tr>\n",
       "    <tr>\n",
       "      <th>4</th>\n",
       "      <td>1987</td>\n",
       "      <td>1</td>\n",
       "      <td>30</td>\n",
       "      <td>796</td>\n",
       "      <td>3</td>\n",
       "      <td>0</td>\n",
       "    </tr>\n",
       "  </tbody>\n",
       "</table>\n",
       "</div>"
      ],
      "text/plain": [
       "   year  sex  age  gdp_per_capita ($)  generation  risk\n",
       "0  1987    1   20                 796           4     0\n",
       "1  1987    1   45                 796           2     0\n",
       "2  1987    0   20                 796           4     0\n",
       "3  1987    1   80                 796           1     0\n",
       "4  1987    1   30                 796           3     0"
      ]
     },
     "execution_count": 19,
     "metadata": {},
     "output_type": "execute_result"
    }
   ],
   "source": [
    "df4.head()"
   ]
  },
  {
   "cell_type": "code",
   "execution_count": 20,
   "metadata": {},
   "outputs": [
    {
     "data": {
      "text/html": [
       "<div>\n",
       "<style scoped>\n",
       "    .dataframe tbody tr th:only-of-type {\n",
       "        vertical-align: middle;\n",
       "    }\n",
       "\n",
       "    .dataframe tbody tr th {\n",
       "        vertical-align: top;\n",
       "    }\n",
       "\n",
       "    .dataframe thead th {\n",
       "        text-align: right;\n",
       "    }\n",
       "</style>\n",
       "<table border=\"1\" class=\"dataframe\">\n",
       "  <thead>\n",
       "    <tr style=\"text-align: right;\">\n",
       "      <th></th>\n",
       "      <th>year</th>\n",
       "      <th>sex</th>\n",
       "      <th>age</th>\n",
       "      <th>gdp_per_capita ($)</th>\n",
       "      <th>generation</th>\n",
       "      <th>risk</th>\n",
       "    </tr>\n",
       "  </thead>\n",
       "  <tbody>\n",
       "    <tr>\n",
       "      <th>0</th>\n",
       "      <td>1987</td>\n",
       "      <td>1</td>\n",
       "      <td>20</td>\n",
       "      <td>796</td>\n",
       "      <td>4</td>\n",
       "      <td>0</td>\n",
       "    </tr>\n",
       "    <tr>\n",
       "      <th>1</th>\n",
       "      <td>1987</td>\n",
       "      <td>1</td>\n",
       "      <td>45</td>\n",
       "      <td>796</td>\n",
       "      <td>2</td>\n",
       "      <td>0</td>\n",
       "    </tr>\n",
       "    <tr>\n",
       "      <th>2</th>\n",
       "      <td>1987</td>\n",
       "      <td>0</td>\n",
       "      <td>20</td>\n",
       "      <td>796</td>\n",
       "      <td>4</td>\n",
       "      <td>0</td>\n",
       "    </tr>\n",
       "    <tr>\n",
       "      <th>3</th>\n",
       "      <td>1987</td>\n",
       "      <td>1</td>\n",
       "      <td>80</td>\n",
       "      <td>796</td>\n",
       "      <td>1</td>\n",
       "      <td>0</td>\n",
       "    </tr>\n",
       "    <tr>\n",
       "      <th>4</th>\n",
       "      <td>1987</td>\n",
       "      <td>1</td>\n",
       "      <td>30</td>\n",
       "      <td>796</td>\n",
       "      <td>3</td>\n",
       "      <td>0</td>\n",
       "    </tr>\n",
       "  </tbody>\n",
       "</table>\n",
       "</div>"
      ],
      "text/plain": [
       "   year  sex  age  gdp_per_capita ($)  generation  risk\n",
       "0  1987    1   20                 796           4     0\n",
       "1  1987    1   45                 796           2     0\n",
       "2  1987    0   20                 796           4     0\n",
       "3  1987    1   80                 796           1     0\n",
       "4  1987    1   30                 796           3     0"
      ]
     },
     "execution_count": 20,
     "metadata": {},
     "output_type": "execute_result"
    }
   ],
   "source": [
    "df_mean.head()"
   ]
  },
  {
   "cell_type": "markdown",
   "metadata": {},
   "source": [
    "***\n",
    "## Problems 3 and 4\n",
    "\n",
    "*Problem 3 - Develop your classification model(s) to solve your defined problem.*\n",
    "\n",
    "*Problem 4 - Evaluate (and report) the model performance(s) using some of the standard techniques (e.g. 80-20 split, 10-fold cross validation, etc.).*\n"
   ]
  },
  {
   "cell_type": "code",
   "execution_count": 21,
   "metadata": {},
   "outputs": [],
   "source": [
    "#splitting dataset - 80% split\n",
    "#using code from Module 3 notebook\n",
    "\n",
    "#from sklearn.model_selection import train_test_split\n",
    "\n",
    "# Preparing the input X matrix and target y vector\n",
    "X = df4.loc[:, df4.columns != 'risk'].values\n",
    "y = df4.loc[:, df4.columns == 'risk'].values.ravel()\n",
    "\n",
    "X2 = df_mean.loc[:, df_mean.columns != 'risk'].values\n",
    "y2 = df_mean.loc[:, df_mean.columns == 'risk'].values.ravel()\n",
    "\n",
    "X_train, X_test, y_train, y_test = train_test_split(X, y, test_size=0.20, random_state=None)\n",
    "X2_train, X2_test, y2_train, y2_test = train_test_split(X2, y2, test_size=0.20, random_state=None)"
   ]
  },
  {
   "cell_type": "code",
   "execution_count": 22,
   "metadata": {},
   "outputs": [
    {
     "data": {
      "text/plain": [
       "((22128, 5), (22128,))"
      ]
     },
     "execution_count": 22,
     "metadata": {},
     "output_type": "execute_result"
    }
   ],
   "source": [
    "#X_train.shape, y_train.shape\n",
    "X2_train.shape, y2_train.shape"
   ]
  },
  {
   "cell_type": "code",
   "execution_count": 23,
   "metadata": {},
   "outputs": [
    {
     "data": {
      "text/plain": [
       "((5532, 5), (5532,))"
      ]
     },
     "execution_count": 23,
     "metadata": {},
     "output_type": "execute_result"
    }
   ],
   "source": [
    "X_test.shape, y_test.shape"
   ]
  },
  {
   "cell_type": "code",
   "execution_count": 24,
   "metadata": {},
   "outputs": [
    {
     "data": {
      "text/plain": [
       "16815.568329718004"
      ]
     },
     "execution_count": 24,
     "metadata": {},
     "output_type": "execute_result"
    }
   ],
   "source": [
    "#calculating the mean GDP per capita - this will be used in part 5\n",
    "GDP_mean = df4['gdp_per_capita ($)'].mean() \n",
    "GDP_mean\n",
    "#GDP_mean2 = df_mean['gdp_per_capita ($)'].mean() # used in part 5"
   ]
  },
  {
   "cell_type": "code",
   "execution_count": 25,
   "metadata": {},
   "outputs": [],
   "source": [
    "#using code from Module 6 lecture notebook \n",
    "#function for determining 10 fold cross validation accuracy\n",
    "\n",
    "def eval_classifier(_clf, _X, _y):\n",
    "    acc = []\n",
    "    kf = StratifiedKFold(n_splits=10, shuffle=False, random_state=None)\n",
    "    for train_index, test_index in kf.split(_X, _y):\n",
    "        _clf.fit(_X[train_index], _y[train_index])\n",
    "        y_pred = _clf.predict(_X[test_index])\n",
    "        acc += [accuracy_score(_y[test_index], y_pred)]\n",
    "    return np.array(acc)"
   ]
  },
  {
   "cell_type": "code",
   "execution_count": 26,
   "metadata": {},
   "outputs": [],
   "source": [
    "#using code from Module 6 lecture notebook \n",
    "#fucntion for determining precision\n",
    "\n",
    "def eval_classifier_precision(_clf, _X, _y):\n",
    "    prec = []\n",
    "    kf0 = StratifiedKFold(n_splits=10, shuffle=False, random_state=None)\n",
    "    for train_index, test_index in kf0.split(_X, _y):\n",
    "        _clf.fit(_X[train_index], _y[train_index])\n",
    "        y_pred0 = _clf.predict(_X[test_index])\n",
    "        prec += [precision_score(_y[test_index], y_pred0, average = 'binary')]\n",
    "    return np.array(prec)"
   ]
  },
  {
   "cell_type": "code",
   "execution_count": 27,
   "metadata": {},
   "outputs": [],
   "source": [
    "#using code from Module 6 lecture notebook \n",
    "#function for determining recall\n",
    "\n",
    "def eval_classifier_recall(_clf, _X, _y):\n",
    "    recall = []\n",
    "    kf1 = StratifiedKFold(n_splits=10, shuffle=False, random_state=None)\n",
    "    for train_index, test_index in kf1.split(_X, _y):\n",
    "        _clf.fit(_X[train_index], _y[train_index])\n",
    "        y_pred01 = _clf.predict(_X[test_index])\n",
    "        recall += [recall_score(_y[test_index], y_pred01, average = 'binary')]\n",
    "    return np.array(recall)"
   ]
  },
  {
   "cell_type": "markdown",
   "metadata": {},
   "source": [
    "We will estimate the accuracy of various models using 10-fold cross validation as well as look at the precision and recall. I believe recall is a more important metric for this dataset because we would like to identify as many people as possible who are at a high risk of suicide.  Having many false positives is better than missing people who may be at high risk. I tried to run multiple models through a loop using the functions above but jupyter notebook would keep freezing or timing out so I decided to run each model separately."
   ]
  },
  {
   "cell_type": "markdown",
   "metadata": {},
   "source": [
    "### Random Forest"
   ]
  },
  {
   "cell_type": "code",
   "execution_count": 28,
   "metadata": {},
   "outputs": [
    {
     "name": "stdout",
     "output_type": "stream",
     "text": [
      "Hi-Low Split: suicides_per_100k mean + 0.25 * Standard Deviation\n",
      "Random Forest CV accuracy=0.80 ±0.020\n",
      "Random Forest CV precision=0.62 ±0.054\n",
      "Random Forest CV recall=0.46 ±0.120\n",
      "Wall time: 35.3 s\n"
     ]
    }
   ],
   "source": [
    "%%time\n",
    "#Random Forest - using the mean suicide rate + 1/4 standard deviation threshold\n",
    "\n",
    "rf = RandomForestClassifier(n_estimators=200, max_depth=5, random_state=None, n_jobs=-1)\n",
    "\n",
    "acc = eval_classifier(rf,X, y)\n",
    "prec = eval_classifier_precision(rf, X, y)\n",
    "recall = eval_classifier_recall(rf, X, y)\n",
    "\n",
    "print(f'Hi-Low Split: suicides_per_100k mean + 0.25 * Standard Deviation')\n",
    "print(f'Random Forest CV accuracy={np.mean(acc):.2f} {chr(177)}{np.std(acc):.3f}')\n",
    "print(f'Random Forest CV precision={np.mean(prec):.2f} {chr(177)}{np.std(prec):.3f}')\n",
    "print(f'Random Forest CV recall={np.mean(recall):.2f} {chr(177)}{np.std(recall):.3f}')"
   ]
  },
  {
   "cell_type": "code",
   "execution_count": 29,
   "metadata": {},
   "outputs": [
    {
     "name": "stdout",
     "output_type": "stream",
     "text": [
      "Hi-Low Split: suicides_per_100k mean\n",
      "Random Forest CV accuracy=0.80 ±0.029\n",
      "Random Forest CV precision=0.67 ±0.050\n",
      "Random Forest CV recall=0.71 ±0.059\n"
     ]
    }
   ],
   "source": [
    "#Random Forest - using the mean suicide rate threshold\n",
    "\n",
    "acc2 = eval_classifier(rf,X2, y2)\n",
    "prec2 = eval_classifier_precision(rf, X2, y2)\n",
    "recall2 = eval_classifier_recall(rf, X2, y2)\n",
    "\n",
    "print(f'Hi-Low Split: suicides_per_100k mean')\n",
    "print(f'Random Forest CV accuracy={np.mean(acc2):.2f} {chr(177)}{np.std(acc2):.3f}')\n",
    "print(f'Random Forest CV precision={np.mean(prec2):.2f} {chr(177)}{np.std(prec2):.3f}')\n",
    "print(f'Random Forest CV recall={np.mean(recall2):.2f} {chr(177)}{np.std(recall2):.3f}')"
   ]
  },
  {
   "cell_type": "markdown",
   "metadata": {},
   "source": [
    "As seen above, using only the mean suicide rate as the threshold has the better results.  The accuracy remains basically the same but we have improved recall and precision.  Also, the recall is slighly better but still very similar to precision. Random Forest seems like a good model to use but we need to compare it to the other 3 models left."
   ]
  },
  {
   "cell_type": "markdown",
   "metadata": {},
   "source": [
    "### Logistic Regression"
   ]
  },
  {
   "cell_type": "code",
   "execution_count": 30,
   "metadata": {},
   "outputs": [
    {
     "name": "stdout",
     "output_type": "stream",
     "text": [
      "Hi-Low Split: suicides_per_100k mean + 0.25 * Standard Deviation\n",
      "\n",
      "Logistic Regression CV accuracy=0.79 ±0.022\n",
      "Logistic Regression CV precision=0.57 ±0.102\n",
      "Logistic Regression CV recall=0.38 ±0.183\n",
      "Wall time: 5.11 s\n"
     ]
    }
   ],
   "source": [
    "%%time\n",
    "#logistic regression - using the mean suicide rate + 1/4 standard deviation threshold\n",
    "\n",
    "lr = LogisticRegression()\n",
    "\n",
    "acc3 = eval_classifier(lr,X, y)\n",
    "prec3 = eval_classifier_precision(lr, X, y)\n",
    "recall3 = eval_classifier_recall(lr, X, y)\n",
    "\n",
    "print(f'Hi-Low Split: suicides_per_100k mean + 0.25 * Standard Deviation')\n",
    "print('')\n",
    "print(f'Logistic Regression CV accuracy={np.mean(acc3):.2f} {chr(177)}{np.std(acc3):.3f}')\n",
    "print(f'Logistic Regression CV precision={np.mean(prec3):.2f} {chr(177)}{np.std(prec3):.3f}')\n",
    "print(f'Logistic Regression CV recall={np.mean(recall3):.2f} {chr(177)}{np.std(recall3):.3f}')"
   ]
  },
  {
   "cell_type": "code",
   "execution_count": 31,
   "metadata": {},
   "outputs": [
    {
     "name": "stdout",
     "output_type": "stream",
     "text": [
      "Hi-Low Split: suicides_per_100k mean\n",
      "\n",
      "Logistic Regression CV accuracy=0.73 ±0.049\n",
      "Logistic Regression CV precision=0.59 ±0.092\n",
      "Logistic Regression CV recall=0.41 ±0.141\n"
     ]
    }
   ],
   "source": [
    "#logistic regression - using the mean suicide rate threshold\n",
    "\n",
    "acc4 = eval_classifier(lr,X2, y2)\n",
    "prec4 = eval_classifier_precision(lr, X2, y2)\n",
    "recall4 = eval_classifier_recall(lr, X2, y2)\n",
    "\n",
    "print(f'Hi-Low Split: suicides_per_100k mean')\n",
    "print('')\n",
    "print(f'Logistic Regression CV accuracy={np.mean(acc4):.2f} {chr(177)}{np.std(acc4):.3f}')\n",
    "print(f'Logistic Regression CV precision={np.mean(prec4):.2f} {chr(177)}{np.std(prec4):.3f}')\n",
    "print(f'Logistic Regression CV recall={np.mean(recall4):.2f} {chr(177)}{np.std(recall4):.3f}')"
   ]
  },
  {
   "cell_type": "markdown",
   "metadata": {},
   "source": [
    "Logistic regression has a poorer performance to Random Forest.  The accuracy is close but the precision and recall is much lower.  The hi-low suicide thresdhold didn't really improve the performance of the model."
   ]
  },
  {
   "cell_type": "markdown",
   "metadata": {},
   "source": [
    "### Naive Bayes"
   ]
  },
  {
   "cell_type": "code",
   "execution_count": 32,
   "metadata": {},
   "outputs": [
    {
     "name": "stdout",
     "output_type": "stream",
     "text": [
      "Hi-Low Split: suicides_per_100k mean + 0.25 * Standard Deviation\n",
      "Naive Bayes CV accuracy=0.78 ±0.020\n",
      "Naive Bayes CV precision=0.55 ±0.063\n",
      "Naive Bayes CV recall=0.44 ±0.038\n",
      "Wall time: 370 ms\n"
     ]
    }
   ],
   "source": [
    "%%time\n",
    "#Naive Bayes - using the mean suicide rate + 1/4 standard deviation threshold\n",
    "nb = GaussianNB()\n",
    "\n",
    "acc5 = eval_classifier(nb,X, y)\n",
    "prec5 = eval_classifier_precision(nb, X, y)\n",
    "recall5 = eval_classifier_recall(nb, X, y)\n",
    "\n",
    "print(f'Hi-Low Split: suicides_per_100k mean + 0.25 * Standard Deviation')\n",
    "print(f'Naive Bayes CV accuracy={np.mean(acc5):.2f} {chr(177)}{np.std(acc5):.3f}')\n",
    "print(f'Naive Bayes CV precision={np.mean(prec5):.2f} {chr(177)}{np.std(prec5):.3f}')\n",
    "print(f'Naive Bayes CV recall={np.mean(recall5):.2f} {chr(177)}{np.std(recall5):.3f}')"
   ]
  },
  {
   "cell_type": "code",
   "execution_count": 33,
   "metadata": {},
   "outputs": [
    {
     "name": "stdout",
     "output_type": "stream",
     "text": [
      "Hi-Low Split: suicides_per_100k mean\n",
      "\n",
      "Naive Bayes CV accuracy=0.71 ±0.015\n",
      "Naive Bayes CV precision=0.54 ±0.028\n",
      "Naive Bayes CV recall=0.53 ±0.031\n",
      "Wall time: 357 ms\n"
     ]
    }
   ],
   "source": [
    "%%time\n",
    "#Naive Bayes - using the mean suicide rate threshold\n",
    "\n",
    "acc6 = eval_classifier(nb,X2, y2)\n",
    "prec6 = eval_classifier_precision(nb, X2, y2)\n",
    "recall6 = eval_classifier_recall(nb, X2, y2)\n",
    "\n",
    "print(f'Hi-Low Split: suicides_per_100k mean')\n",
    "print('')\n",
    "print(f'Naive Bayes CV accuracy={np.mean(acc6):.2f} {chr(177)}{np.std(acc6):.3f}')\n",
    "print(f'Naive Bayes CV precision={np.mean(prec6):.2f} {chr(177)}{np.std(prec6):.3f}')\n",
    "print(f'Naive Bayes CV recall={np.mean(recall6):.2f} {chr(177)}{np.std(recall6):.3f}')"
   ]
  },
  {
   "cell_type": "markdown",
   "metadata": {},
   "source": [
    "Naive Bayes also has a poorer performance to Random Forest.  The accuracy is close but the precision and recall is much lower.  The hi-low suicide threshold did seem to improve the recall but not precision."
   ]
  },
  {
   "cell_type": "markdown",
   "metadata": {},
   "source": [
    "### Decision Tree"
   ]
  },
  {
   "cell_type": "code",
   "execution_count": 34,
   "metadata": {},
   "outputs": [
    {
     "name": "stdout",
     "output_type": "stream",
     "text": [
      "Hi-Low Split: suicides_per_100k mean + 0.25 * Standard Deviation\n",
      "\n",
      "Decision Tree CV accuracy=0.79 ±0.020\n",
      "Decision Tree CV precision=0.57 ±0.049\n",
      "Decision Tree CV recall=0.51 ±0.102\n",
      "Wall time: 905 ms\n"
     ]
    }
   ],
   "source": [
    "%%time\n",
    "#Decision Tree - using the mean suicide rate + 1/4 standard deviation threshold\n",
    "\n",
    "dt = DecisionTreeClassifier(max_depth=5, random_state=None)\n",
    "\n",
    "acc7 = eval_classifier(dt,X, y)\n",
    "prec7 = eval_classifier_precision(dt, X, y)\n",
    "recall7 = eval_classifier_recall(dt, X, y)\n",
    "\n",
    "print(f'Hi-Low Split: suicides_per_100k mean + 0.25 * Standard Deviation')\n",
    "print('')\n",
    "print(f'Decision Tree CV accuracy={np.mean(acc7):.2f} {chr(177)}{np.std(acc7):.3f}')\n",
    "print(f'Decision Tree CV precision={np.mean(prec7):.2f} {chr(177)}{np.std(prec7):.3f}')\n",
    "print(f'Decision Tree CV recall={np.mean(recall7):.2f} {chr(177)}{np.std(recall7):.3f}')"
   ]
  },
  {
   "cell_type": "code",
   "execution_count": 35,
   "metadata": {},
   "outputs": [
    {
     "name": "stdout",
     "output_type": "stream",
     "text": [
      "Hi-Low Split: suicides_per_100k mean\n",
      "\n",
      "Decision Tree CV accuracy=0.79 ±0.024\n",
      "Decision Tree CV precision=0.66 ±0.050\n",
      "Decision Tree CV recall=0.70 ±0.060\n",
      "Wall time: 908 ms\n"
     ]
    }
   ],
   "source": [
    "%%time\n",
    "#Decision Tree - using the mean suicide rate threshold\n",
    "\n",
    "acc8 = eval_classifier(dt,X2, y2)\n",
    "prec8 = eval_classifier_precision(dt, X2, y2)\n",
    "recall8 = eval_classifier_recall(dt, X2, y2)\n",
    "\n",
    "print(f'Hi-Low Split: suicides_per_100k mean')\n",
    "print('')\n",
    "print(f'Decision Tree CV accuracy={np.mean(acc8):.2f} {chr(177)}{np.std(acc8):.3f}')\n",
    "print(f'Decision Tree CV precision={np.mean(prec8):.2f} {chr(177)}{np.std(prec8):.3f}')\n",
    "print(f'Decision Tree CV recall={np.mean(recall8):.2f} {chr(177)}{np.std(recall8):.3f}')"
   ]
  },
  {
   "cell_type": "markdown",
   "metadata": {},
   "source": [
    "The decision tree classifier has a very similar performance to the random forest classifier.  However, overall I would choose the Random Forest classifier due to it's robustness and ability to reduce overfitting as an ensemble method.  Based on the performance of all the classifiers, the threshold using only the mean suicides per 100k to distinguish between high and low suicides, generally improved precision and recall.  It is possible that since the datset is already very unbalanced, using the thresdhold of the mean + 1/4 the standard deviation was too restrictive causing many people who could have a high rate to being missed."
   ]
  },
  {
   "cell_type": "markdown",
   "metadata": {},
   "source": [
    "***\n",
    "## Problem 5\n",
    "*Using your classifier model, what is the predicted category of your dependent variable for the input: \"year=2000, generation=Generation X, age=20, gender=male\"?*\n"
   ]
  },
  {
   "cell_type": "markdown",
   "metadata": {},
   "source": [
    "### Random Forest"
   ]
  },
  {
   "cell_type": "code",
   "execution_count": 36,
   "metadata": {},
   "outputs": [
    {
     "name": "stdout",
     "output_type": "stream",
     "text": [
      "High Risk of Suicide\n"
     ]
    }
   ],
   "source": [
    "#function for displaying whether high or low risk of suicide \n",
    "def Hi_low(a):\n",
    "    if a == 1:\n",
    "        print(\"High Risk of Suicide\")\n",
    "    else:\n",
    "        print(\"Low Risk of Suicide\")\n",
    "\n",
    "#input for predicting a male in year 2000 who is 20 years old and of generation x\n",
    "#since there is no given GDP,we will be using the mean GDP\n",
    "input = np.array([[2000, 1, 20, GDP_mean, 4]])\n",
    "\n",
    "#getting prediction using Random forest\n",
    "rfpred = rf.predict(input)\n",
    "\n",
    "#print result\n",
    "Hi_low(rfpred)"
   ]
  },
  {
   "cell_type": "code",
   "execution_count": 37,
   "metadata": {},
   "outputs": [
    {
     "name": "stdout",
     "output_type": "stream",
     "text": [
      "Low Risk of Suicide\n"
     ]
    }
   ],
   "source": [
    "#if the input was a female \n",
    "input2 = np.array([[2000, 0, 20, GDP_mean, 4]])\n",
    "\n",
    "#getting prediction using Random forest\n",
    "rfpred2 = rf.predict(input2)\n",
    "\n",
    "#print result\n",
    "Hi_low(rfpred2)"
   ]
  },
  {
   "cell_type": "markdown",
   "metadata": {},
   "source": [
    "### Logistic Regression"
   ]
  },
  {
   "cell_type": "code",
   "execution_count": 38,
   "metadata": {},
   "outputs": [
    {
     "name": "stdout",
     "output_type": "stream",
     "text": [
      "Low Risk of Suicide\n"
     ]
    }
   ],
   "source": [
    "#getting prediction using logistic regression\n",
    "lrpred = lr.predict(input)\n",
    "\n",
    "#print result\n",
    "Hi_low(lrpred)"
   ]
  },
  {
   "cell_type": "markdown",
   "metadata": {},
   "source": [
    "### Naive Bayes"
   ]
  },
  {
   "cell_type": "code",
   "execution_count": 39,
   "metadata": {},
   "outputs": [
    {
     "name": "stdout",
     "output_type": "stream",
     "text": [
      "Low Risk of Suicide\n"
     ]
    }
   ],
   "source": [
    "#getting prediction using naive bayes\n",
    "nbpred = nb.predict(input)\n",
    "\n",
    "#print result\n",
    "Hi_low(nbpred)"
   ]
  },
  {
   "cell_type": "markdown",
   "metadata": {},
   "source": [
    "### Decision Tree"
   ]
  },
  {
   "cell_type": "code",
   "execution_count": 40,
   "metadata": {},
   "outputs": [
    {
     "name": "stdout",
     "output_type": "stream",
     "text": [
      "Low Risk of Suicide\n"
     ]
    }
   ],
   "source": [
    "#getting prediction using Decision Tress\n",
    "dtpred = dt.predict(input)\n",
    "\n",
    "#print result\n",
    "Hi_low(dtpred)"
   ]
  },
  {
   "cell_type": "markdown",
   "metadata": {},
   "source": [
    "Using the Random Forest model, we are predicting that a male that is 20 years old in 2000 and is from generation X would have a high risk of suicide.All other classifiers predicted a low risk of suicide.  For Logistic Regression and Naive Bayes, this could be possible since they had a lower recall.  It's possible the random forest model predicted differently to decision tree since it is more robust. For the input, I used the mean GDP since a specific GDP was not given for the problem. Interestingly, we can see that if the input would be changed to a female, the random forest model would predict a low risk of suicide.  "
   ]
  },
  {
   "cell_type": "markdown",
   "metadata": {},
   "source": [
    "***\n",
    "## References"
   ]
  },
  {
   "cell_type": "markdown",
   "metadata": {},
   "source": [
    "https://towardsdatascience.com/the-suicide-crisis-in-data-7025f8551ca8\n",
    "\n",
    "https://towardsdatascience.com/suicide-in-the-21st-century-part-1-904abe8e1f5c\n",
    "\n",
    "https://www.kaggle.com/elcaiseri/classification-of-high-low-suicide-rates\n",
    "\n",
    "https://www.kaggle.com/dornani/a-classification-analysis-on-suicide-data"
   ]
  }
 ],
 "metadata": {
  "kernelspec": {
   "display_name": "Python 3",
   "language": "python",
   "name": "python3"
  },
  "language_info": {
   "codemirror_mode": {
    "name": "ipython",
    "version": 3
   },
   "file_extension": ".py",
   "mimetype": "text/x-python",
   "name": "python",
   "nbconvert_exporter": "python",
   "pygments_lexer": "ipython3",
   "version": "3.8.3"
  }
 },
 "nbformat": 4,
 "nbformat_minor": 4
}
